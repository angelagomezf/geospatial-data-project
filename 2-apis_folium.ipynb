{
 "cells": [
  {
   "cell_type": "markdown",
   "metadata": {},
   "source": [
    "## PART 2: APIS"
   ]
  },
  {
   "cell_type": "markdown",
   "metadata": {},
   "source": [
    "### Importing libraries and MongoDB collection"
   ]
  },
  {
   "cell_type": "code",
   "execution_count": 93,
   "metadata": {},
   "outputs": [
    {
     "name": "stdout",
     "output_type": "stream",
     "text": [
      "Requirement already satisfied: folium in /Library/Frameworks/Python.framework/Versions/3.8/lib/python3.8/site-packages (0.11.0)\r\n",
      "Requirement already satisfied: jinja2>=2.9 in /Library/Frameworks/Python.framework/Versions/3.8/lib/python3.8/site-packages (from folium) (2.11.2)\r\n",
      "Requirement already satisfied: requests in /Library/Frameworks/Python.framework/Versions/3.8/lib/python3.8/site-packages (from folium) (2.24.0)\r\n",
      "Requirement already satisfied: branca>=0.3.0 in /Library/Frameworks/Python.framework/Versions/3.8/lib/python3.8/site-packages (from folium) (0.4.1)\r\n",
      "Requirement already satisfied: numpy in /Library/Frameworks/Python.framework/Versions/3.8/lib/python3.8/site-packages (from folium) (1.19.2)\r\n",
      "Requirement already satisfied: MarkupSafe>=0.23 in /Library/Frameworks/Python.framework/Versions/3.8/lib/python3.8/site-packages (from jinja2>=2.9->folium) (1.1.1)\r\n",
      "Requirement already satisfied: idna<3,>=2.5 in /Library/Frameworks/Python.framework/Versions/3.8/lib/python3.8/site-packages (from requests->folium) (2.10)\r\n",
      "Requirement already satisfied: chardet<4,>=3.0.2 in /Library/Frameworks/Python.framework/Versions/3.8/lib/python3.8/site-packages (from requests->folium) (3.0.4)\r\n",
      "Requirement already satisfied: urllib3!=1.25.0,!=1.25.1,<1.26,>=1.21.1 in /Library/Frameworks/Python.framework/Versions/3.8/lib/python3.8/site-packages (from requests->folium) (1.25.11)\r\n",
      "Requirement already satisfied: certifi>=2017.4.17 in /Library/Frameworks/Python.framework/Versions/3.8/lib/python3.8/site-packages (from requests->folium) (2020.6.20)\r\n"
     ]
    }
   ],
   "source": [
    "!pip3 install folium"
   ]
  },
  {
   "cell_type": "code",
   "execution_count": 149,
   "metadata": {},
   "outputs": [],
   "source": [
    "import requests\n",
    "import urllib.request\n",
    "from dotenv import load_dotenv\n",
    "import os\n",
    "from pymongo import MongoClient\n",
    "import json\n",
    "import folium"
   ]
  },
  {
   "cell_type": "code",
   "execution_count": 11,
   "metadata": {},
   "outputs": [],
   "source": [
    "client = MongoClient()"
   ]
  },
  {
   "cell_type": "code",
   "execution_count": 12,
   "metadata": {},
   "outputs": [],
   "source": [
    "db = client.get_database(\"companies\")"
   ]
  },
  {
   "cell_type": "code",
   "execution_count": 42,
   "metadata": {},
   "outputs": [],
   "source": [
    "des_tech = db.companies_unwinded_des_tech"
   ]
  },
  {
   "cell_type": "code",
   "execution_count": 43,
   "metadata": {},
   "outputs": [],
   "source": [
    "res = list(des_tech.find())"
   ]
  },
  {
   "cell_type": "code",
   "execution_count": 44,
   "metadata": {},
   "outputs": [
    {
     "data": {
      "text/plain": [
       "6"
      ]
     },
     "execution_count": 44,
     "metadata": {},
     "output_type": "execute_result"
    }
   ],
   "source": [
    "len(res)"
   ]
  },
  {
   "cell_type": "code",
   "execution_count": 41,
   "metadata": {},
   "outputs": [
    {
     "name": "stdout",
     "output_type": "stream",
     "text": [
      "GreenVolts\n",
      "37.790153\n",
      "-122.398669\n",
      "Sunrun\n",
      "37.7871306\n",
      "-122.4041075\n",
      "Catalyst Biosciences\n",
      "37.645401\n",
      "-122.394464\n",
      "eMeter\n",
      "37.560781\n",
      "-122.284114\n",
      "TRIRIGA\n",
      "37.6817236\n",
      "-121.9031911\n",
      "SolarEdge\n",
      "37.4757796\n",
      "-121.9382415\n"
     ]
    }
   ],
   "source": [
    "for i in res:\n",
    "    print(i[\"name\"])\n",
    "    print(i[\"offices\"][\"latitude\"])\n",
    "    print(i[\"offices\"][\"longitude\"])"
   ]
  },
  {
   "cell_type": "markdown",
   "metadata": {},
   "source": [
    "## Filter 3: Airports"
   ]
  },
  {
   "cell_type": "markdown",
   "metadata": {},
   "source": [
    "Are any of the 6 companies reaming close to an airport? Let's find out."
   ]
  },
  {
   "cell_type": "markdown",
   "metadata": {},
   "source": [
    "### Authentication FourSquare APi"
   ]
  },
  {
   "cell_type": "code",
   "execution_count": 2,
   "metadata": {},
   "outputs": [
    {
     "data": {
      "text/plain": [
       "True"
      ]
     },
     "execution_count": 2,
     "metadata": {},
     "output_type": "execute_result"
    }
   ],
   "source": [
    "load_dotenv()"
   ]
  },
  {
   "cell_type": "code",
   "execution_count": 3,
   "metadata": {},
   "outputs": [],
   "source": [
    "fs_id = os.getenv(\"fs_client_id\")\n",
    "fs_secret = os.getenv(\"fs_client_secret\")"
   ]
  },
  {
   "cell_type": "code",
   "execution_count": 67,
   "metadata": {},
   "outputs": [],
   "source": [
    "url = 'https://api.foursquare.com/v2/venues/search' # API url"
   ]
  },
  {
   "cell_type": "markdown",
   "metadata": {},
   "source": [
    "GreenVolts"
   ]
  },
  {
   "cell_type": "code",
   "execution_count": 83,
   "metadata": {},
   "outputs": [],
   "source": [
    "params=dict(\n",
    "client_id=fs_id,                                  # ID Authentication\n",
    "client_secret=fs_secret,\n",
    "v='20200901',                                     # The date that represents the version of the API from Foursquare\n",
    "ll='37.790153,-122.398669',                              \n",
    "query='Airport',\n",
    "limit=1\n",
    ")\n",
    "\n",
    "res = requests.get(url=url, params=params)\n",
    "airport = json.loads(res.text)"
   ]
  },
  {
   "cell_type": "code",
   "execution_count": 84,
   "metadata": {},
   "outputs": [
    {
     "data": {
      "text/plain": [
       "{'meta': {'code': 200, 'requestId': '5fb2bf6fa614367fd9052e1d'},\n",
       " 'response': {'venues': [{'id': '41059b00f964a520850b1fe3',\n",
       "    'name': 'San Francisco International Airport (SFO) (San Francisco International Airport)',\n",
       "    'location': {'address': 'N McDonnell Rd',\n",
       "     'crossStreet': 'at Link Rd',\n",
       "     'lat': 37.6167130000997,\n",
       "     'lng': -122.38709449768066,\n",
       "     'labeledLatLngs': [{'label': 'display',\n",
       "       'lat': 37.6167130000997,\n",
       "       'lng': -122.38709449768066}],\n",
       "     'distance': 19334,\n",
       "     'postalCode': '94128',\n",
       "     'cc': 'US',\n",
       "     'city': 'San Francisco',\n",
       "     'state': 'CA',\n",
       "     'country': 'United States',\n",
       "     'formattedAddress': ['N McDonnell Rd (at Link Rd)',\n",
       "      'San Francisco, CA 94128',\n",
       "      'United States']},\n",
       "    'categories': [{'id': '4bf58dd8d48988d1ed931735',\n",
       "      'name': 'Airport',\n",
       "      'pluralName': 'Airports',\n",
       "      'shortName': 'Airport',\n",
       "      'icon': {'prefix': 'https://ss3.4sqi.net/img/categories_v2/travel/airport_',\n",
       "       'suffix': '.png'},\n",
       "      'primary': True}],\n",
       "    'referralId': 'v-1605549935',\n",
       "    'hasPerk': False}]}}"
      ]
     },
     "execution_count": 84,
     "metadata": {},
     "output_type": "execute_result"
    }
   ],
   "source": [
    "airport"
   ]
  },
  {
   "cell_type": "code",
   "execution_count": 86,
   "metadata": {},
   "outputs": [],
   "source": [
    "params=dict(\n",
    "client_id=fs_id,                                  # ID Authentication\n",
    "client_secret=fs_secret,\n",
    "v='20200901',                                     # The date that represents the version of the API from Foursquare\n",
    "ll='37.7871306,-122.4041075',                              \n",
    "query='Airport',\n",
    "limit=1\n",
    ")\n",
    "\n",
    "res = requests.get(url=url, params=params)\n",
    "airport = json.loads(res.text)"
   ]
  },
  {
   "cell_type": "code",
   "execution_count": 88,
   "metadata": {},
   "outputs": [
    {
     "data": {
      "text/plain": [
       "{'meta': {'code': 200, 'requestId': '5fb2c005d64a7347255e3ef6'},\n",
       " 'response': {'venues': [{'id': '41059b00f964a520850b1fe3',\n",
       "    'name': 'San Francisco International Airport (SFO) (San Francisco International Airport)',\n",
       "    'location': {'address': 'N McDonnell Rd',\n",
       "     'crossStreet': 'at Link Rd',\n",
       "     'lat': 37.6167130000997,\n",
       "     'lng': -122.38709449768066,\n",
       "     'labeledLatLngs': [{'label': 'display',\n",
       "       'lat': 37.6167130000997,\n",
       "       'lng': -122.38709449768066}],\n",
       "     'distance': 19029,\n",
       "     'postalCode': '94128',\n",
       "     'cc': 'US',\n",
       "     'city': 'San Francisco',\n",
       "     'state': 'CA',\n",
       "     'country': 'United States',\n",
       "     'formattedAddress': ['N McDonnell Rd (at Link Rd)',\n",
       "      'San Francisco, CA 94128',\n",
       "      'United States']},\n",
       "    'categories': [{'id': '4bf58dd8d48988d1ed931735',\n",
       "      'name': 'Airport',\n",
       "      'pluralName': 'Airports',\n",
       "      'shortName': 'Airport',\n",
       "      'icon': {'prefix': 'https://ss3.4sqi.net/img/categories_v2/travel/airport_',\n",
       "       'suffix': '.png'},\n",
       "      'primary': True}],\n",
       "    'referralId': 'v-1605550085',\n",
       "    'hasPerk': False}]}}"
      ]
     },
     "execution_count": 88,
     "metadata": {},
     "output_type": "execute_result"
    }
   ],
   "source": [
    "airport"
   ]
  },
  {
   "cell_type": "code",
   "execution_count": 89,
   "metadata": {},
   "outputs": [],
   "source": [
    "params=dict(\n",
    "client_id=fs_id,                                  # ID Authentication\n",
    "client_secret=fs_secret,\n",
    "v='20200901',                                     # The date that represents the version of the API from Foursquare\n",
    "ll='37.645401,-122.394464',                              \n",
    "query='Airport',\n",
    "limit=1\n",
    ")\n",
    "\n",
    "res = requests.get(url=url, params=params)\n",
    "airport = json.loads(res.text)"
   ]
  },
  {
   "cell_type": "code",
   "execution_count": 90,
   "metadata": {},
   "outputs": [
    {
     "data": {
      "text/plain": [
       "{'meta': {'code': 200, 'requestId': '5fb2c05192e219640d27cf9a'},\n",
       " 'response': {'venues': [{'id': '41059b00f964a520850b1fe3',\n",
       "    'name': 'San Francisco International Airport (SFO) (San Francisco International Airport)',\n",
       "    'location': {'address': 'N McDonnell Rd',\n",
       "     'crossStreet': 'at Link Rd',\n",
       "     'lat': 37.6167130000997,\n",
       "     'lng': -122.38709449768066,\n",
       "     'labeledLatLngs': [{'label': 'display',\n",
       "       'lat': 37.6167130000997,\n",
       "       'lng': -122.38709449768066}],\n",
       "     'distance': 3258,\n",
       "     'postalCode': '94128',\n",
       "     'cc': 'US',\n",
       "     'city': 'San Francisco',\n",
       "     'state': 'CA',\n",
       "     'country': 'United States',\n",
       "     'formattedAddress': ['N McDonnell Rd (at Link Rd)',\n",
       "      'San Francisco, CA 94128',\n",
       "      'United States']},\n",
       "    'categories': [{'id': '4bf58dd8d48988d1ed931735',\n",
       "      'name': 'Airport',\n",
       "      'pluralName': 'Airports',\n",
       "      'shortName': 'Airport',\n",
       "      'icon': {'prefix': 'https://ss3.4sqi.net/img/categories_v2/travel/airport_',\n",
       "       'suffix': '.png'},\n",
       "      'primary': True}],\n",
       "    'referralId': 'v-1605550161',\n",
       "    'hasPerk': False}]}}"
      ]
     },
     "execution_count": 90,
     "metadata": {},
     "output_type": "execute_result"
    }
   ],
   "source": [
    "airport"
   ]
  },
  {
   "cell_type": "markdown",
   "metadata": {},
   "source": [
    "## PART 3: FOLIUM"
   ]
  },
  {
   "cell_type": "code",
   "execution_count": 134,
   "metadata": {},
   "outputs": [
    {
     "data": {
      "text/html": [
       "<div style=\"width:100%;\"><div style=\"position:relative;width:100%;height:0;padding-bottom:60%;\"><span style=\"color:#565656\">Make this Notebook Trusted to load map: File -> Trust Notebook</span><iframe src=\"about:blank\" style=\"position:absolute;width:100%;height:100%;left:0;top:0;border:none !important;\" data-html=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 onload=\"this.contentDocument.open();this.contentDocument.write(atob(this.getAttribute('data-html')));this.contentDocument.close();\" allowfullscreen webkitallowfullscreen mozallowfullscreen></iframe></div></div>"
      ],
      "text/plain": [
       "<folium.folium.Map at 0x7fcfd0bcdf70>"
      ]
     },
     "execution_count": 134,
     "metadata": {},
     "output_type": "execute_result"
    }
   ],
   "source": [
    "m = folium.Map(\n",
    "    location=[37.6167130000997,-122.38709449768066],\n",
    "    zoom_start=12,\n",
    "    tiles='Stamen Terrain'\n",
    ")\n",
    "\n",
    "folium.Marker(\n",
    "    location=[37.6167130000997,-122.38709449768066],\n",
    "    popup='San Francisco International Airport (SFO)',\n",
    "    icon=folium.Icon(color='red', prefix=\"fa\", icon='fa-plane'),\n",
    ").add_to(m)\n",
    "\n",
    "folium.Marker(\n",
    "    location=[37.790153,-122.398669],\n",
    "    popup='GreenVolts',\n",
    ").add_to(m)\n",
    "\n",
    "folium.Marker(\n",
    "    location=[37.7871306,-122.4041075],\n",
    "    popup='Sunrun',\n",
    ").add_to(m)\n",
    "\n",
    "folium.Marker(\n",
    "    location=[37.645401,-122.394464],\n",
    "    popup='Catalyst Biosciences',\n",
    ").add_to(m)\n",
    "\n",
    "folium.Marker(\n",
    "    location=[37.560781,-122.284114],\n",
    "    popup='eMeter',\n",
    ").add_to(m)\n",
    "\n",
    "folium.Marker(\n",
    "    location=[37.6817236,-121.9031911],\n",
    "    popup='TRIRIGA',\n",
    ").add_to(m)\n",
    "\n",
    "folium.Marker(\n",
    "    location=[37.4757796,-121.9382415],\n",
    "    popup='SolarEdge',\n",
    ").add_to(m)\n",
    "\n",
    "m"
   ]
  },
  {
   "cell_type": "markdown",
   "metadata": {},
   "source": [
    "### 4th observation:\n",
    "TRIRIGA and SolarEdge are too far away from the airport - we discard them."
   ]
  },
  {
   "cell_type": "markdown",
   "metadata": {},
   "source": [
    "## Filter 4: Party Venues"
   ]
  },
  {
   "cell_type": "code",
   "execution_count": 103,
   "metadata": {},
   "outputs": [],
   "source": [
    "params=dict(\n",
    "client_id=fs_id,                                  # ID Authentication\n",
    "client_secret=fs_secret,\n",
    "v='20200901',                                     # The date that represents the version of the API from Foursquare\n",
    "ll='37.790153,-122.398669',                              \n",
    "query='Jazz Club',\n",
    "limit=1\n",
    ")\n",
    "\n",
    "res = requests.get(url=url, params=params)\n",
    "music = json.loads(res.text)"
   ]
  },
  {
   "cell_type": "code",
   "execution_count": 104,
   "metadata": {},
   "outputs": [
    {
     "data": {
      "text/plain": [
       "{'meta': {'code': 200, 'requestId': '5fb2c812f80c210a281da9c4'},\n",
       " 'response': {'venues': [{'id': '459e2e1df964a520b2401fe3',\n",
       "    'name': \"Yoshi's Jazz Club & Japanese Restaurant\",\n",
       "    'location': {'address': '510 Embarcadero W',\n",
       "     'crossStreet': 'btwn Clay St. & Washington St.',\n",
       "     'lat': 37.79602569317977,\n",
       "     'lng': -122.27837703078144,\n",
       "     'labeledLatLngs': [{'label': 'display',\n",
       "       'lat': 37.79602569317977,\n",
       "       'lng': -122.27837703078144}],\n",
       "     'distance': 10601,\n",
       "     'postalCode': '94607',\n",
       "     'cc': 'US',\n",
       "     'city': 'Oakland',\n",
       "     'state': 'CA',\n",
       "     'country': 'United States',\n",
       "     'formattedAddress': ['510 Embarcadero W (btwn Clay St. & Washington St.)',\n",
       "      'Oakland, CA 94607',\n",
       "      'United States']},\n",
       "    'categories': [{'id': '4bf58dd8d48988d1e7931735',\n",
       "      'name': 'Jazz Club',\n",
       "      'pluralName': 'Jazz Clubs',\n",
       "      'shortName': 'Jazz Club',\n",
       "      'icon': {'prefix': 'https://ss3.4sqi.net/img/categories_v2/arts_entertainment/musicvenue_jazzclub_',\n",
       "       'suffix': '.png'},\n",
       "      'primary': True}],\n",
       "    'venuePage': {'id': '91909143'},\n",
       "    'referralId': 'v-1605552146',\n",
       "    'hasPerk': False}]}}"
      ]
     },
     "execution_count": 104,
     "metadata": {},
     "output_type": "execute_result"
    }
   ],
   "source": [
    "music"
   ]
  },
  {
   "cell_type": "code",
   "execution_count": 105,
   "metadata": {},
   "outputs": [],
   "source": [
    "params=dict(\n",
    "client_id=fs_id,                                  # ID Authentication\n",
    "client_secret=fs_secret,\n",
    "v='20200901',                                     # The date that represents the version of the API from Foursquare\n",
    "ll='37.7871306,-122.4041075',                              \n",
    "query='Jazz Club',\n",
    "limit=1\n",
    ")\n",
    "\n",
    "res = requests.get(url=url, params=params)\n",
    "music = json.loads(res.text)"
   ]
  },
  {
   "cell_type": "code",
   "execution_count": 106,
   "metadata": {},
   "outputs": [
    {
     "data": {
      "text/plain": [
       "{'meta': {'code': 200, 'requestId': '5fb2c82c83e39e1edd059f52'},\n",
       " 'response': {'venues': [{'id': '459e2e1df964a520b2401fe3',\n",
       "    'name': \"Yoshi's Jazz Club & Japanese Restaurant\",\n",
       "    'location': {'address': '510 Embarcadero W',\n",
       "     'crossStreet': 'btwn Clay St. & Washington St.',\n",
       "     'lat': 37.79602569317977,\n",
       "     'lng': -122.27837703078144,\n",
       "     'labeledLatLngs': [{'label': 'display',\n",
       "       'lat': 37.79602569317977,\n",
       "       'lng': -122.27837703078144}],\n",
       "     'distance': 11104,\n",
       "     'postalCode': '94607',\n",
       "     'cc': 'US',\n",
       "     'city': 'Oakland',\n",
       "     'state': 'CA',\n",
       "     'country': 'United States',\n",
       "     'formattedAddress': ['510 Embarcadero W (btwn Clay St. & Washington St.)',\n",
       "      'Oakland, CA 94607',\n",
       "      'United States']},\n",
       "    'categories': [{'id': '4bf58dd8d48988d1e7931735',\n",
       "      'name': 'Jazz Club',\n",
       "      'pluralName': 'Jazz Clubs',\n",
       "      'shortName': 'Jazz Club',\n",
       "      'icon': {'prefix': 'https://ss3.4sqi.net/img/categories_v2/arts_entertainment/musicvenue_jazzclub_',\n",
       "       'suffix': '.png'},\n",
       "      'primary': True}],\n",
       "    'venuePage': {'id': '91909143'},\n",
       "    'referralId': 'v-1605552172',\n",
       "    'hasPerk': False}]}}"
      ]
     },
     "execution_count": 106,
     "metadata": {},
     "output_type": "execute_result"
    }
   ],
   "source": [
    "music"
   ]
  },
  {
   "cell_type": "code",
   "execution_count": 107,
   "metadata": {},
   "outputs": [],
   "source": [
    "params=dict(\n",
    "client_id=fs_id,                                  # ID Authentication\n",
    "client_secret=fs_secret,\n",
    "v='20200901',                                     # The date that represents the version of the API from Foursquare\n",
    "ll='37.645401,-122.394464',                              \n",
    "query='Jazz Club',\n",
    "limit=1\n",
    ")\n",
    "\n",
    "res = requests.get(url=url, params=params)\n",
    "music = json.loads(res.text)"
   ]
  },
  {
   "cell_type": "code",
   "execution_count": 108,
   "metadata": {},
   "outputs": [
    {
     "data": {
      "text/plain": [
       "{'meta': {'code': 200, 'requestId': '5fb2c8542158a34dc8996bce'},\n",
       " 'response': {'venues': [{'id': '459e2e1df964a520b2401fe3',\n",
       "    'name': \"Yoshi's Jazz Club & Japanese Restaurant\",\n",
       "    'location': {'address': '510 Embarcadero W',\n",
       "     'crossStreet': 'btwn Clay St. & Washington St.',\n",
       "     'lat': 37.79602569317977,\n",
       "     'lng': -122.27837703078144,\n",
       "     'labeledLatLngs': [{'label': 'display',\n",
       "       'lat': 37.79602569317977,\n",
       "       'lng': -122.27837703078144}],\n",
       "     'distance': 19637,\n",
       "     'postalCode': '94607',\n",
       "     'cc': 'US',\n",
       "     'city': 'Oakland',\n",
       "     'state': 'CA',\n",
       "     'country': 'United States',\n",
       "     'formattedAddress': ['510 Embarcadero W (btwn Clay St. & Washington St.)',\n",
       "      'Oakland, CA 94607',\n",
       "      'United States']},\n",
       "    'categories': [{'id': '4bf58dd8d48988d1e7931735',\n",
       "      'name': 'Jazz Club',\n",
       "      'pluralName': 'Jazz Clubs',\n",
       "      'shortName': 'Jazz Club',\n",
       "      'icon': {'prefix': 'https://ss3.4sqi.net/img/categories_v2/arts_entertainment/musicvenue_jazzclub_',\n",
       "       'suffix': '.png'},\n",
       "      'primary': True}],\n",
       "    'venuePage': {'id': '91909143'},\n",
       "    'referralId': 'v-1605552212',\n",
       "    'hasPerk': False}]}}"
      ]
     },
     "execution_count": 108,
     "metadata": {},
     "output_type": "execute_result"
    }
   ],
   "source": [
    "music"
   ]
  },
  {
   "cell_type": "code",
   "execution_count": 133,
   "metadata": {},
   "outputs": [
    {
     "data": {
      "text/html": [
       "<div style=\"width:100%;\"><div style=\"position:relative;width:100%;height:0;padding-bottom:60%;\"><span style=\"color:#565656\">Make this Notebook Trusted to load map: File -> Trust Notebook</span><iframe src=\"about:blank\" style=\"position:absolute;width:100%;height:100%;left:0;top:0;border:none !important;\" data-html=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 onload=\"this.contentDocument.open();this.contentDocument.write(atob(this.getAttribute('data-html')));this.contentDocument.close();\" allowfullscreen webkitallowfullscreen mozallowfullscreen></iframe></div></div>"
      ],
      "text/plain": [
       "<folium.folium.Map at 0x7fcfd0bae9a0>"
      ]
     },
     "execution_count": 133,
     "metadata": {},
     "output_type": "execute_result"
    }
   ],
   "source": [
    "m = folium.Map(\n",
    "    location=[37.79602569317977,-122.27837703078144],\n",
    "    zoom_start=12,\n",
    "    tiles='Stamen Terrain'\n",
    ")\n",
    "\n",
    "folium.Marker(\n",
    "    location=[37.79602569317977,-122.27837703078144],\n",
    "    popup=\"Yoshi's Jazz Club\",\n",
    "    icon=folium.Icon(color='orange', prefix=\"fa\", icon='fa-glass'),\n",
    ").add_to(m)\n",
    "\n",
    "folium.Marker(\n",
    "    location=[37.6167130000997,-122.38709449768066],\n",
    "    popup='San Francisco International Airport (SFO)',\n",
    "    icon=folium.Icon(color='red', prefix=\"fa\", icon='fa-plane'),\n",
    ").add_to(m)\n",
    "\n",
    "folium.Marker(\n",
    "    location=[37.790153,-122.398669],\n",
    "    popup='GreenVolts',\n",
    ").add_to(m)\n",
    "\n",
    "folium.Marker(\n",
    "    location=[37.7871306,-122.4041075],\n",
    "    popup='Sunrun',\n",
    ").add_to(m)\n",
    "\n",
    "folium.Marker(\n",
    "    location=[37.645401,-122.394464],\n",
    "    popup='Catalyst Biosciences',\n",
    ").add_to(m)\n",
    "\n",
    "folium.Marker(\n",
    "    location=[37.560781,-122.284114],\n",
    "    popup='eMeter',\n",
    ").add_to(m)\n",
    "\n",
    "\n",
    "m"
   ]
  },
  {
   "cell_type": "markdown",
   "metadata": {},
   "source": [
    "### 5th observation:\n",
    "Since all people in the company like to party, we discard eMeter because it is too far away from the Jazz club location."
   ]
  },
  {
   "cell_type": "markdown",
   "metadata": {},
   "source": [
    "## Filter 5: Vegan Restaurant"
   ]
  },
  {
   "cell_type": "code",
   "execution_count": 111,
   "metadata": {},
   "outputs": [],
   "source": [
    "params=dict(\n",
    "client_id=fs_id,                                  # ID Authentication\n",
    "client_secret=fs_secret,\n",
    "v='20200901',                                     # The date that represents the version of the API from Foursquare\n",
    "ll='37.790153,-122.398669',                              \n",
    "query='Vegetarian / Vegan Restaurant',\n",
    "limit=1\n",
    ")\n",
    "\n",
    "res = requests.get(url=url, params=params)\n",
    "vegan = json.loads(res.text)"
   ]
  },
  {
   "cell_type": "code",
   "execution_count": 112,
   "metadata": {},
   "outputs": [
    {
     "data": {
      "text/plain": [
       "{'meta': {'code': 200, 'requestId': '5fb2ca67f2dca11a89393b1e'},\n",
       " 'response': {'venues': [{'id': '4b391baef964a520605625e3',\n",
       "    'name': 'Enjoy Vegetarian Restaurant',\n",
       "    'location': {'address': '839 Kearny St',\n",
       "     'crossStreet': 'at Washington St.',\n",
       "     'lat': 37.79583330118931,\n",
       "     'lng': -122.40509327113475,\n",
       "     'labeledLatLngs': [{'label': 'display',\n",
       "       'lat': 37.79583330118931,\n",
       "       'lng': -122.40509327113475}],\n",
       "     'distance': 848,\n",
       "     'postalCode': '94108',\n",
       "     'cc': 'US',\n",
       "     'city': 'San Francisco',\n",
       "     'state': 'CA',\n",
       "     'country': 'United States',\n",
       "     'formattedAddress': ['839 Kearny St (at Washington St.)',\n",
       "      'San Francisco, CA 94108',\n",
       "      'United States']},\n",
       "    'categories': [{'id': '4bf58dd8d48988d1d3941735',\n",
       "      'name': 'Vegetarian / Vegan Restaurant',\n",
       "      'pluralName': 'Vegetarian / Vegan Restaurants',\n",
       "      'shortName': 'Vegetarian / Vegan',\n",
       "      'icon': {'prefix': 'https://ss3.4sqi.net/img/categories_v2/food/vegetarian_',\n",
       "       'suffix': '.png'},\n",
       "      'primary': True}],\n",
       "    'delivery': {'id': '316707',\n",
       "     'url': 'https://www.grubhub.com/restaurant/enjoy-vegetarian-restaurant-839-kearny-st-san-francisco/316707?affiliate=1131&utm_source=foursquare-affiliate-network&utm_medium=affiliate&utm_campaign=1131&utm_content=316707',\n",
       "     'provider': {'name': 'grubhub',\n",
       "      'icon': {'prefix': 'https://fastly.4sqi.net/img/general/cap/',\n",
       "       'sizes': [40, 50],\n",
       "       'name': '/delivery_provider_grubhub_20180129.png'}}},\n",
       "    'referralId': 'v-1605552743',\n",
       "    'hasPerk': False}]}}"
      ]
     },
     "execution_count": 112,
     "metadata": {},
     "output_type": "execute_result"
    }
   ],
   "source": [
    "vegan"
   ]
  },
  {
   "cell_type": "code",
   "execution_count": 115,
   "metadata": {},
   "outputs": [],
   "source": [
    "params=dict(\n",
    "client_id=fs_id,                                  # ID Authentication\n",
    "client_secret=fs_secret,\n",
    "v='20200901',                                     # The date that represents the version of the API from Foursquare\n",
    "ll='37.7871306,-122.4041075',                              \n",
    "query='Vegetarian / Vegan Restaurant',\n",
    "limit=1\n",
    ")\n",
    "\n",
    "res = requests.get(url=url, params=params)\n",
    "vegan = json.loads(res.text)"
   ]
  },
  {
   "cell_type": "code",
   "execution_count": 116,
   "metadata": {},
   "outputs": [
    {
     "data": {
      "text/plain": [
       "{'meta': {'code': 200, 'requestId': '5fb2cab44360832ce812b141'},\n",
       " 'response': {'venues': [{'id': '4b391baef964a520605625e3',\n",
       "    'name': 'Enjoy Vegetarian Restaurant',\n",
       "    'location': {'address': '839 Kearny St',\n",
       "     'crossStreet': 'at Washington St.',\n",
       "     'lat': 37.79583330118931,\n",
       "     'lng': -122.40509327113475,\n",
       "     'labeledLatLngs': [{'label': 'display',\n",
       "       'lat': 37.79583330118931,\n",
       "       'lng': -122.40509327113475}],\n",
       "     'distance': 972,\n",
       "     'postalCode': '94108',\n",
       "     'cc': 'US',\n",
       "     'city': 'San Francisco',\n",
       "     'state': 'CA',\n",
       "     'country': 'United States',\n",
       "     'formattedAddress': ['839 Kearny St (at Washington St.)',\n",
       "      'San Francisco, CA 94108',\n",
       "      'United States']},\n",
       "    'categories': [{'id': '4bf58dd8d48988d1d3941735',\n",
       "      'name': 'Vegetarian / Vegan Restaurant',\n",
       "      'pluralName': 'Vegetarian / Vegan Restaurants',\n",
       "      'shortName': 'Vegetarian / Vegan',\n",
       "      'icon': {'prefix': 'https://ss3.4sqi.net/img/categories_v2/food/vegetarian_',\n",
       "       'suffix': '.png'},\n",
       "      'primary': True}],\n",
       "    'delivery': {'id': '316707',\n",
       "     'url': 'https://www.grubhub.com/restaurant/enjoy-vegetarian-restaurant-839-kearny-st-san-francisco/316707?affiliate=1131&utm_source=foursquare-affiliate-network&utm_medium=affiliate&utm_campaign=1131&utm_content=316707',\n",
       "     'provider': {'name': 'grubhub',\n",
       "      'icon': {'prefix': 'https://fastly.4sqi.net/img/general/cap/',\n",
       "       'sizes': [40, 50],\n",
       "       'name': '/delivery_provider_grubhub_20180129.png'}}},\n",
       "    'referralId': 'v-1605552820',\n",
       "    'hasPerk': False}]}}"
      ]
     },
     "execution_count": 116,
     "metadata": {},
     "output_type": "execute_result"
    }
   ],
   "source": [
    "vegan"
   ]
  },
  {
   "cell_type": "code",
   "execution_count": 113,
   "metadata": {},
   "outputs": [],
   "source": [
    "params=dict(\n",
    "client_id=fs_id,                                  # ID Authentication\n",
    "client_secret=fs_secret,\n",
    "v='20200901',                                     # The date that represents the version of the API from Foursquare\n",
    "ll='37.645401,-122.394464',                              \n",
    "query='Vegetarian / Vegan Restaurant',\n",
    "limit=1\n",
    ")\n",
    "\n",
    "res = requests.get(url=url, params=params)\n",
    "vegan = json.loads(res.text)"
   ]
  },
  {
   "cell_type": "code",
   "execution_count": 114,
   "metadata": {},
   "outputs": [
    {
     "data": {
      "text/plain": [
       "{'meta': {'code': 200, 'requestId': '5fb2ca9012d8516a98f6391f'},\n",
       " 'response': {'venues': [{'id': '589a5e7d6b0cdb422a2b9754',\n",
       "    'name': 'Loving Hut SF Sunset',\n",
       "    'location': {'address': '524 Irving St',\n",
       "     'lat': 37.764236531809004,\n",
       "     'lng': -122.46361045773169,\n",
       "     'labeledLatLngs': [{'label': 'display',\n",
       "       'lat': 37.764236531809004,\n",
       "       'lng': -122.46361045773169},\n",
       "      {'label': 'entrance', 'lat': 37.764265, 'lng': -122.463622}],\n",
       "     'distance': 14563,\n",
       "     'postalCode': '94122',\n",
       "     'cc': 'US',\n",
       "     'city': 'San Francisco',\n",
       "     'state': 'CA',\n",
       "     'country': 'United States',\n",
       "     'formattedAddress': ['524 Irving St',\n",
       "      'San Francisco, CA 94122',\n",
       "      'United States']},\n",
       "    'categories': [{'id': '4bf58dd8d48988d120951735',\n",
       "      'name': 'Food Court',\n",
       "      'pluralName': 'Food Courts',\n",
       "      'shortName': 'Food Court',\n",
       "      'icon': {'prefix': 'https://ss3.4sqi.net/img/categories_v2/shops/food_foodcourt_',\n",
       "       'suffix': '.png'},\n",
       "      'primary': True}],\n",
       "    'delivery': {'id': '2030628',\n",
       "     'url': 'https://www.grubhub.com/restaurant/loving-hut-vegan-cuisine-524-irving-st-san-francisco/2030628?affiliate=1131&utm_source=foursquare-affiliate-network&utm_medium=affiliate&utm_campaign=1131&utm_content=2030628',\n",
       "     'provider': {'name': 'grubhub',\n",
       "      'icon': {'prefix': 'https://fastly.4sqi.net/img/general/cap/',\n",
       "       'sizes': [40, 50],\n",
       "       'name': '/delivery_provider_grubhub_20180129.png'}}},\n",
       "    'referralId': 'v-1605552785',\n",
       "    'hasPerk': False}]}}"
      ]
     },
     "execution_count": 114,
     "metadata": {},
     "output_type": "execute_result"
    }
   ],
   "source": [
    "vegan"
   ]
  },
  {
   "cell_type": "code",
   "execution_count": 136,
   "metadata": {},
   "outputs": [
    {
     "data": {
      "text/html": [
       "<div style=\"width:100%;\"><div style=\"position:relative;width:100%;height:0;padding-bottom:60%;\"><span style=\"color:#565656\">Make this Notebook Trusted to load map: File -> Trust Notebook</span><iframe src=\"about:blank\" style=\"position:absolute;width:100%;height:100%;left:0;top:0;border:none !important;\" data-html=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 onload=\"this.contentDocument.open();this.contentDocument.write(atob(this.getAttribute('data-html')));this.contentDocument.close();\" allowfullscreen webkitallowfullscreen mozallowfullscreen></iframe></div></div>"
      ],
      "text/plain": [
       "<folium.folium.Map at 0x7fcfd0c0bdf0>"
      ]
     },
     "execution_count": 136,
     "metadata": {},
     "output_type": "execute_result"
    }
   ],
   "source": [
    "m = folium.Map(\n",
    "    location=[37.79583330118931,-122.40509327113475],\n",
    "    zoom_start=12,\n",
    "    tiles='Stamen Terrain'\n",
    ")\n",
    "\n",
    "folium.Marker(\n",
    "    location=[37.79583330118931,-122.40509327113475],\n",
    "    popup=\"Enjoy Vegetarian Restaurant\",\n",
    "    icon=folium.Icon(color='green', prefix=\"fa\", icon='fa-leaf'),\n",
    ").add_to(m)\n",
    "\n",
    "folium.Marker(\n",
    "    location=[37.764236531809004,-122.46361045773169],\n",
    "    popup=\"Loving Hut SF Sunset\",\n",
    "    icon=folium.Icon(color='green', prefix=\"fa\", icon='fa-leaf'),\n",
    ").add_to(m)\n",
    "\n",
    "folium.Marker(\n",
    "    location=[37.79602569317977,-122.27837703078144],\n",
    "    popup=\"Yoshi's Jazz Club\",\n",
    "    icon=folium.Icon(color='orange', prefix=\"fa\", icon='fa-glass'),\n",
    ").add_to(m)\n",
    "\n",
    "folium.Marker(\n",
    "    location=[37.6167130000997,-122.38709449768066],\n",
    "    popup='San Francisco International Airport (SFO)',\n",
    "    icon=folium.Icon(color='red', prefix=\"fa\", icon='fa-plane'),\n",
    ").add_to(m)\n",
    "\n",
    "folium.Marker(\n",
    "    location=[37.790153,-122.398669],\n",
    "    popup='GreenVolts',\n",
    ").add_to(m)\n",
    "\n",
    "folium.Marker(\n",
    "    location=[37.7871306,-122.4041075],\n",
    "    popup='Sunrun',\n",
    ").add_to(m)\n",
    "\n",
    "folium.Marker(\n",
    "    location=[37.645401,-122.394464],\n",
    "    popup='Catalyst Biosciences',\n",
    ").add_to(m)\n",
    "\n",
    "\n",
    "m"
   ]
  },
  {
   "cell_type": "markdown",
   "metadata": {},
   "source": [
    "### 6th observation:\n",
    "We discard *CatalystBiosciences* since it is the furthest from the vegan restaurant."
   ]
  },
  {
   "cell_type": "markdown",
   "metadata": {},
   "source": [
    "## Filter 6: Basketball Stadium"
   ]
  },
  {
   "cell_type": "code",
   "execution_count": 122,
   "metadata": {},
   "outputs": [],
   "source": [
    "params=dict(\n",
    "client_id=fs_id,                                  # ID Authentication\n",
    "client_secret=fs_secret,\n",
    "v='20200901',                                     # The date that represents the version of the API from Foursquare\n",
    "ll='37.790153,-122.398669',                              \n",
    "query='Basketball Stadium',\n",
    "limit=1\n",
    ")\n",
    "\n",
    "res = requests.get(url=url, params=params)\n",
    "basket = json.loads(res.text)"
   ]
  },
  {
   "cell_type": "code",
   "execution_count": 123,
   "metadata": {},
   "outputs": [
    {
     "data": {
      "text/plain": [
       "{'meta': {'code': 200, 'requestId': '5fb2cc42e6b2a169849191cf'},\n",
       " 'response': {'venues': [{'id': '51088772e4b03de3f8c58242',\n",
       "    'name': 'Basketball Court',\n",
       "    'location': {'address': '100 McAllister St',\n",
       "     'crossStreet': 'at Leavenworth St',\n",
       "     'lat': 37.78113691140497,\n",
       "     'lng': -122.41407752037048,\n",
       "     'labeledLatLngs': [{'label': 'display',\n",
       "       'lat': 37.78113691140497,\n",
       "       'lng': -122.41407752037048}],\n",
       "     'distance': 1686,\n",
       "     'postalCode': '94102',\n",
       "     'cc': 'US',\n",
       "     'city': 'San Francisco',\n",
       "     'state': 'CA',\n",
       "     'country': 'United States',\n",
       "     'formattedAddress': ['100 McAllister St (at Leavenworth St)',\n",
       "      'San Francisco, CA 94102',\n",
       "      'United States']},\n",
       "    'categories': [{'id': '4bf58dd8d48988d1ba941735',\n",
       "      'name': 'College Basketball Court',\n",
       "      'pluralName': 'College Basketball Courts',\n",
       "      'shortName': 'Basketball',\n",
       "      'icon': {'prefix': 'https://ss3.4sqi.net/img/categories_v2/arts_entertainment/stadium_basketball_',\n",
       "       'suffix': '.png'},\n",
       "      'primary': True}],\n",
       "    'referralId': 'v-1605553218',\n",
       "    'hasPerk': False}]}}"
      ]
     },
     "execution_count": 123,
     "metadata": {},
     "output_type": "execute_result"
    }
   ],
   "source": [
    "basket"
   ]
  },
  {
   "cell_type": "code",
   "execution_count": 137,
   "metadata": {},
   "outputs": [
    {
     "data": {
      "text/html": [
       "<div style=\"width:100%;\"><div style=\"position:relative;width:100%;height:0;padding-bottom:60%;\"><span style=\"color:#565656\">Make this Notebook Trusted to load map: File -> Trust Notebook</span><iframe src=\"about:blank\" style=\"position:absolute;width:100%;height:100%;left:0;top:0;border:none !important;\" data-html=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 onload=\"this.contentDocument.open();this.contentDocument.write(atob(this.getAttribute('data-html')));this.contentDocument.close();\" allowfullscreen webkitallowfullscreen mozallowfullscreen></iframe></div></div>"
      ],
      "text/plain": [
       "<folium.folium.Map at 0x7fcfd0c4de80>"
      ]
     },
     "execution_count": 137,
     "metadata": {},
     "output_type": "execute_result"
    }
   ],
   "source": [
    "m = folium.Map(\n",
    "    location=[37.79583330118931,-122.40509327113475],\n",
    "    zoom_start=12,\n",
    "    tiles='Stamen Terrain'\n",
    ")\n",
    "\n",
    "folium.Marker(\n",
    "    location=[37.78113691140497,-122.41407752037048],\n",
    "    popup=\"Basketball Court\",\n",
    "    icon=folium.Icon(color='purple', prefix=\"fa\", icon='fa-futbol-o'),\n",
    ").add_to(m)\n",
    "\n",
    "folium.Marker(\n",
    "    location=[37.79583330118931,-122.40509327113475],\n",
    "    popup=\"Enjoy Vegetarian Restaurant\",\n",
    "    icon=folium.Icon(color='green', prefix=\"fa\", icon='fa-leaf'),\n",
    ").add_to(m)\n",
    "\n",
    "folium.Marker(\n",
    "    location=[37.764236531809004,-122.46361045773169],\n",
    "    popup=\"Loving Hut SF Sunset\",\n",
    "    icon=folium.Icon(color='green', prefix=\"fa\", icon='fa-leaf'),\n",
    ").add_to(m)\n",
    "\n",
    "folium.Marker(\n",
    "    location=[37.79602569317977,-122.27837703078144],\n",
    "    popup=\"Yoshi's Jazz Club\",\n",
    "    icon=folium.Icon(color='orange', prefix=\"fa\", icon='fa-glass'),\n",
    ").add_to(m)\n",
    "\n",
    "folium.Marker(\n",
    "    location=[37.6167130000997,-122.38709449768066],\n",
    "    popup='San Francisco International Airport (SFO)',\n",
    "    icon=folium.Icon(color='red', prefix=\"fa\", icon='fa-plane'),\n",
    ").add_to(m)\n",
    "\n",
    "folium.Marker(\n",
    "    location=[37.790153,-122.398669],\n",
    "    popup='GreenVolts',\n",
    ").add_to(m)\n",
    "\n",
    "folium.Marker(\n",
    "    location=[37.7871306,-122.4041075],\n",
    "    popup='Sunrun',\n",
    ").add_to(m)\n",
    "\n",
    "\n",
    "m"
   ]
  },
  {
   "cell_type": "markdown",
   "metadata": {},
   "source": [
    "### 7th observation:\n",
    "Even though Sunrun is closer to the basketball court, both companies are very close. Let's check one last requirement to make sure we're choosing the **perfect** location for our company"
   ]
  },
  {
   "cell_type": "markdown",
   "metadata": {},
   "source": [
    "## Filter 7: School"
   ]
  },
  {
   "cell_type": "code",
   "execution_count": 138,
   "metadata": {},
   "outputs": [],
   "source": [
    "params=dict(\n",
    "client_id=fs_id,                                  # ID Authentication\n",
    "client_secret=fs_secret,\n",
    "v='20200901',                                     # The date that represents the version of the API from Foursquare\n",
    "ll='37.790153,-122.398669',                              \n",
    "query='Preschool',\n",
    "limit=1\n",
    ")\n",
    "\n",
    "res = requests.get(url=url, params=params)\n",
    "school = json.loads(res.text)"
   ]
  },
  {
   "cell_type": "code",
   "execution_count": 139,
   "metadata": {},
   "outputs": [
    {
     "data": {
      "text/plain": [
       "{'meta': {'code': 200, 'requestId': '5fb2e07b3a1e82333e4a1617'},\n",
       " 'response': {'venues': [{'id': '5ab5e7c3237dee25adca69c7',\n",
       "    'name': 'Apple Tree Preschool',\n",
       "    'location': {'address': '85 Columbia Sq',\n",
       "     'crossStreet': 'btwn Folsom & Harrison St',\n",
       "     'lat': 37.776954519912685,\n",
       "     'lng': -122.40514925868479,\n",
       "     'labeledLatLngs': [{'label': 'display',\n",
       "       'lat': 37.776954519912685,\n",
       "       'lng': -122.40514925868479}],\n",
       "     'distance': 1575,\n",
       "     'postalCode': '94103',\n",
       "     'cc': 'US',\n",
       "     'city': 'San Francisco',\n",
       "     'state': 'CA',\n",
       "     'country': 'United States',\n",
       "     'formattedAddress': ['85 Columbia Sq (btwn Folsom & Harrison St)',\n",
       "      'San Francisco, CA 94103',\n",
       "      'United States']},\n",
       "    'categories': [{'id': '52e81612bcbc57f1066b7a45',\n",
       "      'name': 'Preschool',\n",
       "      'pluralName': 'Preschools',\n",
       "      'shortName': 'Preschool',\n",
       "      'icon': {'prefix': 'https://ss3.4sqi.net/img/categories_v2/building/school_',\n",
       "       'suffix': '.png'},\n",
       "      'primary': True}],\n",
       "    'referralId': 'v-1605558395',\n",
       "    'hasPerk': False}]}}"
      ]
     },
     "execution_count": 139,
     "metadata": {},
     "output_type": "execute_result"
    }
   ],
   "source": [
    "school"
   ]
  },
  {
   "cell_type": "code",
   "execution_count": 142,
   "metadata": {
    "scrolled": true
   },
   "outputs": [
    {
     "data": {
      "text/html": [
       "<div style=\"width:100%;\"><div style=\"position:relative;width:100%;height:0;padding-bottom:60%;\"><span style=\"color:#565656\">Make this Notebook Trusted to load map: File -> Trust Notebook</span><iframe src=\"about:blank\" style=\"position:absolute;width:100%;height:100%;left:0;top:0;border:none !important;\" data-html=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 onload=\"this.contentDocument.open();this.contentDocument.write(atob(this.getAttribute('data-html')));this.contentDocument.close();\" allowfullscreen webkitallowfullscreen mozallowfullscreen></iframe></div></div>"
      ],
      "text/plain": [
       "<folium.folium.Map at 0x7fcfd0c7a430>"
      ]
     },
     "execution_count": 142,
     "metadata": {},
     "output_type": "execute_result"
    }
   ],
   "source": [
    "m = folium.Map(\n",
    "    location=[37.79583330118931,-122.40509327113475],\n",
    "    zoom_start=12,\n",
    "    tiles='Stamen Terrain'\n",
    ")\n",
    "\n",
    "folium.Marker(\n",
    "    location=[37.776954519912685,-122.40514925868479],\n",
    "    popup=\"Apple Tree Preschool\",\n",
    "    icon=folium.Icon(color='black', prefix=\"fa\", icon='fa-graduation-cap'),\n",
    ").add_to(m)\n",
    "\n",
    "folium.Marker(\n",
    "    location=[37.78113691140497,-122.41407752037048],\n",
    "    popup=\"Basketball Court\",\n",
    "    icon=folium.Icon(color='purple', prefix=\"fa\", icon='fa-futbol-o'),\n",
    ").add_to(m)\n",
    "\n",
    "folium.Marker(\n",
    "    location=[37.79583330118931,-122.40509327113475],\n",
    "    popup=\"Enjoy Vegetarian Restaurant\",\n",
    "    icon=folium.Icon(color='green', prefix=\"fa\", icon='fa-leaf'),\n",
    ").add_to(m)\n",
    "\n",
    "folium.Marker(\n",
    "    location=[37.764236531809004,-122.46361045773169],\n",
    "    popup=\"Loving Hut SF Sunset\",\n",
    "    icon=folium.Icon(color='green', prefix=\"fa\", icon='fa-leaf'),\n",
    ").add_to(m)\n",
    "\n",
    "folium.Marker(\n",
    "    location=[37.79602569317977,-122.27837703078144],\n",
    "    popup=\"Yoshi's Jazz Club\",\n",
    "    icon=folium.Icon(color='orange', prefix=\"fa\", icon='fa-glass'),\n",
    ").add_to(m)\n",
    "\n",
    "folium.Marker(\n",
    "    location=[37.6167130000997,-122.38709449768066],\n",
    "    popup='San Francisco International Airport (SFO)',\n",
    "    icon=folium.Icon(color='red', prefix=\"fa\", icon='fa-plane'),\n",
    ").add_to(m)\n",
    "\n",
    "folium.Marker(\n",
    "    location=[37.790153,-122.398669],\n",
    "    popup='GreenVolts',\n",
    ").add_to(m)\n",
    "\n",
    "folium.Marker(\n",
    "    location=[37.7871306,-122.4041075],\n",
    "    popup='Sunrun',\n",
    ").add_to(m)\n",
    "\n",
    "\n",
    "m"
   ]
  },
  {
   "cell_type": "markdown",
   "metadata": {},
   "source": [
    "### 8th and final observation:\n",
    "Even though both companies meet all the requirements we have checked, Sunrun is the optimal choice location for our compnay"
   ]
  },
  {
   "cell_type": "code",
   "execution_count": 155,
   "metadata": {},
   "outputs": [],
   "source": [
    "optimal = list(des_tech.find({\"name\":\"Sunrun\"}, {\"name\":1,\"offices\":1}))"
   ]
  },
  {
   "cell_type": "code",
   "execution_count": 156,
   "metadata": {},
   "outputs": [
    {
     "data": {
      "text/plain": [
       "[{'_id': ObjectId('5fb1638f247255c14a451aea'),\n",
       "  'name': 'Sunrun',\n",
       "  'offices': {'description': 'San Francisco HQ',\n",
       "   'address1': '45 Fremont Street, 32nd Floor',\n",
       "   'address2': '',\n",
       "   'zip_code': '94105',\n",
       "   'city': 'San Francisco',\n",
       "   'state_code': 'CA',\n",
       "   'country_code': 'USA',\n",
       "   'latitude': 37.7871306,\n",
       "   'longitude': -122.4041075}}]"
      ]
     },
     "execution_count": 156,
     "metadata": {},
     "output_type": "execute_result"
    }
   ],
   "source": [
    "optimal"
   ]
  },
  {
   "cell_type": "markdown",
   "metadata": {},
   "source": [
    "## Perfect Location: Sunrun"
   ]
  },
  {
   "cell_type": "code",
   "execution_count": 175,
   "metadata": {},
   "outputs": [],
   "source": [
    "params=dict(\n",
    "client_id=fs_id,                                  # ID Authentication\n",
    "client_secret=fs_secret,\n",
    "v='20200901',                                     # The date that represents the version of the API from Foursquare\n",
    "ll='37.7871306,-122.4041075',                              \n",
    "query='Coffee Shop',\n",
    "limit=1\n",
    ")\n",
    "\n",
    "res = requests.get(url=url, params=params)\n",
    "coffee = json.loads(res.text)"
   ]
  },
  {
   "cell_type": "code",
   "execution_count": 176,
   "metadata": {},
   "outputs": [
    {
     "data": {
      "text/plain": [
       "{'meta': {'code': 200, 'requestId': '5fb3028c526d023dfffb9e7b'},\n",
       " 'response': {'venues': [{'id': '4a671dbaf964a520edc81fe3',\n",
       "    'name': 'Taylor Street Coffee Shop',\n",
       "    'location': {'address': '375 Taylor St',\n",
       "     'crossStreet': \"at O'Farrell\",\n",
       "     'lat': 37.78568085058454,\n",
       "     'lng': -122.41121571514505,\n",
       "     'labeledLatLngs': [{'label': 'display',\n",
       "       'lat': 37.78568085058454,\n",
       "       'lng': -122.41121571514505}],\n",
       "     'distance': 645,\n",
       "     'postalCode': '94102',\n",
       "     'cc': 'US',\n",
       "     'city': 'San Francisco',\n",
       "     'state': 'CA',\n",
       "     'country': 'United States',\n",
       "     'formattedAddress': [\"375 Taylor St (at O'Farrell)\",\n",
       "      'San Francisco, CA 94102',\n",
       "      'United States']},\n",
       "    'categories': [{'id': '4bf58dd8d48988d1e0931735',\n",
       "      'name': 'Coffee Shop',\n",
       "      'pluralName': 'Coffee Shops',\n",
       "      'shortName': 'Coffee Shop',\n",
       "      'icon': {'prefix': 'https://ss3.4sqi.net/img/categories_v2/food/coffeeshop_',\n",
       "       'suffix': '.png'},\n",
       "      'primary': True}],\n",
       "    'delivery': {'id': '308022',\n",
       "     'url': 'https://www.grubhub.com/restaurant/taylor-street-coffee-shop-375-taylor-st-san-francisco/308022?affiliate=1131&utm_source=foursquare-affiliate-network&utm_medium=affiliate&utm_campaign=1131&utm_content=308022',\n",
       "     'provider': {'name': 'grubhub',\n",
       "      'icon': {'prefix': 'https://fastly.4sqi.net/img/general/cap/',\n",
       "       'sizes': [40, 50],\n",
       "       'name': '/delivery_provider_grubhub_20180129.png'}}},\n",
       "    'venuePage': {'id': '105324728'},\n",
       "    'referralId': 'v-1605567116',\n",
       "    'hasPerk': False}]}}"
      ]
     },
     "execution_count": 176,
     "metadata": {},
     "output_type": "execute_result"
    }
   ],
   "source": [
    "coffee"
   ]
  },
  {
   "cell_type": "code",
   "execution_count": 177,
   "metadata": {},
   "outputs": [],
   "source": [
    "params=dict(\n",
    "client_id=fs_id,                                  # ID Authentication\n",
    "client_secret=fs_secret,\n",
    "v='20200901',                                     # The date that represents the version of the API from Foursquare\n",
    "ll='37.7871306,-122.4041075',                              \n",
    "query='Veterinarian',\n",
    "limit=1\n",
    ")\n",
    "\n",
    "res = requests.get(url=url, params=params)\n",
    "vet = json.loads(res.text)"
   ]
  },
  {
   "cell_type": "code",
   "execution_count": 178,
   "metadata": {},
   "outputs": [
    {
     "data": {
      "text/plain": [
       "{'meta': {'code': 200, 'requestId': '5fb302c669bc8506c4fcc88c'},\n",
       " 'response': {'venues': [{'id': '4f2199dfe4b08379a8b71e8c',\n",
       "    'name': 'Wong veterinarian',\n",
       "    'location': {'address': '1086 Golden Gate Ave, San Francisco, CA 94115',\n",
       "     'lat': 37.78037643432617,\n",
       "     'lng': -122.42925262451172,\n",
       "     'labeledLatLngs': [{'label': 'display',\n",
       "       'lat': 37.78037643432617,\n",
       "       'lng': -122.42925262451172}],\n",
       "     'distance': 2336,\n",
       "     'postalCode': '94115',\n",
       "     'cc': 'US',\n",
       "     'city': 'San Francisco',\n",
       "     'state': 'CA',\n",
       "     'country': 'United States',\n",
       "     'formattedAddress': ['1086 Golden Gate Ave, San Francisco, CA 94115',\n",
       "      'San Francisco, CA 94115',\n",
       "      'United States']},\n",
       "    'categories': [{'id': '4d954af4a243a5684765b473',\n",
       "      'name': 'Veterinarian',\n",
       "      'pluralName': 'Veterinarians',\n",
       "      'shortName': 'Veterinarians',\n",
       "      'icon': {'prefix': 'https://ss3.4sqi.net/img/categories_v2/building/medical_veterinarian_',\n",
       "       'suffix': '.png'},\n",
       "      'primary': True}],\n",
       "    'referralId': 'v-1605567174',\n",
       "    'hasPerk': False}]}}"
      ]
     },
     "execution_count": 178,
     "metadata": {},
     "output_type": "execute_result"
    }
   ],
   "source": [
    "vet"
   ]
  },
  {
   "cell_type": "code",
   "execution_count": 184,
   "metadata": {},
   "outputs": [
    {
     "data": {
      "text/html": [
       "<div style=\"width:100%;\"><div style=\"position:relative;width:100%;height:0;padding-bottom:60%;\"><span style=\"color:#565656\">Make this Notebook Trusted to load map: File -> Trust Notebook</span><iframe src=\"about:blank\" style=\"position:absolute;width:100%;height:100%;left:0;top:0;border:none !important;\" data-html=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 onload=\"this.contentDocument.open();this.contentDocument.write(atob(this.getAttribute('data-html')));this.contentDocument.close();\" allowfullscreen webkitallowfullscreen mozallowfullscreen></iframe></div></div>"
      ],
      "text/plain": [
       "<folium.folium.Map at 0x7fcfd0e8d9a0>"
      ]
     },
     "execution_count": 184,
     "metadata": {},
     "output_type": "execute_result"
    }
   ],
   "source": [
    "m = folium.Map(\n",
    "    location=[37.7871306,-122.4041075],\n",
    "    zoom_start=14,\n",
    ")\n",
    "\n",
    "folium.Marker(\n",
    "    location=[37.78037643432617,-122.42925262451172],\n",
    "    popup=\"Wong veterinarian\",\n",
    "    icon=folium.Icon(color='lightblue', prefix=\"fa\", icon='fa-hospital-o'),\n",
    ").add_to(m)\n",
    "\n",
    "folium.Marker(\n",
    "    location=[37.7908334969082,-122.41911751737659],\n",
    "    popup=\"Mymy Coffee Shop\",\n",
    "    icon=folium.Icon(color='lightgray', prefix=\"fa\", icon='fa-coffee'),\n",
    ").add_to(m)\n",
    "\n",
    "folium.Marker(\n",
    "    location=[37.78568085058454,-122.41121571514505],\n",
    "    popup=\"Taylor Street Coffee Shop\",\n",
    "    icon=folium.Icon(color='lightgray', prefix=\"fa\", icon='fa-coffee'),\n",
    ").add_to(m)\n",
    "\n",
    "folium.Marker(\n",
    "    location=[37.776954519912685,-122.40514925868479],\n",
    "    popup=\"Apple Tree Preschool\",\n",
    "    icon=folium.Icon(color='black', prefix=\"fa\", icon='fa-graduation-cap'),\n",
    ").add_to(m)\n",
    "\n",
    "folium.Marker(\n",
    "    location=[37.78113691140497,-122.41407752037048],\n",
    "    popup=\"Basketball Court\",\n",
    "    icon=folium.Icon(color='purple', prefix=\"fa\", icon='fa-futbol-o'),\n",
    ").add_to(m)\n",
    "\n",
    "folium.Marker(\n",
    "    location=[37.79583330118931,-122.40509327113475],\n",
    "    popup=\"Enjoy Vegetarian Restaurant\",\n",
    "    icon=folium.Icon(color='green', prefix=\"fa\", icon='fa-leaf'),\n",
    ").add_to(m)\n",
    "\n",
    "folium.Marker(\n",
    "    location=[37.764236531809004,-122.46361045773169],\n",
    "    popup=\"Loving Hut SF Sunset\",\n",
    "    icon=folium.Icon(color='green', prefix=\"fa\", icon='fa-leaf'),\n",
    ").add_to(m)\n",
    "\n",
    "folium.Marker(\n",
    "    location=[37.79602569317977,-122.27837703078144],\n",
    "    popup=\"Yoshi's Jazz Club\",\n",
    "    icon=folium.Icon(color='orange', prefix=\"fa\", icon='fa-glass'),\n",
    ").add_to(m)\n",
    "\n",
    "folium.Marker(\n",
    "    location=[37.6167130000997,-122.38709449768066],\n",
    "    popup='San Francisco International Airport (SFO)',\n",
    "    icon=folium.Icon(color='red', prefix=\"fa\", icon='fa-plane'),\n",
    ").add_to(m)\n",
    "\n",
    "folium.Marker(\n",
    "    location=[37.7871306,-122.4041075],\n",
    "    popup='Sunrun',\n",
    ").add_to(m)\n",
    "\n",
    "\n",
    "m"
   ]
  },
  {
   "cell_type": "code",
   "execution_count": null,
   "metadata": {},
   "outputs": [],
   "source": []
  }
 ],
 "metadata": {
  "kernelspec": {
   "display_name": "Python 3",
   "language": "python",
   "name": "python3"
  },
  "language_info": {
   "codemirror_mode": {
    "name": "ipython",
    "version": 3
   },
   "file_extension": ".py",
   "mimetype": "text/x-python",
   "name": "python",
   "nbconvert_exporter": "python",
   "pygments_lexer": "ipython3",
   "version": "3.8.5"
  }
 },
 "nbformat": 4,
 "nbformat_minor": 4
}
