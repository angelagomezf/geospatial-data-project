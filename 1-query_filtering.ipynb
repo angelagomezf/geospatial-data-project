{
 "cells": [
  {
   "cell_type": "markdown",
   "metadata": {},
   "source": [
    "# Project nº IV: GeoSpatial Project"
   ]
  },
  {
   "cell_type": "markdown",
   "metadata": {},
   "source": [
    "## PART 1: FILTERING"
   ]
  },
  {
   "cell_type": "markdown",
   "metadata": {},
   "source": [
    "### Importing libraries"
   ]
  },
  {
   "cell_type": "code",
   "execution_count": 208,
   "metadata": {},
   "outputs": [],
   "source": [
    "from pymongo import MongoClient, GEO2D\n",
    "from bson import json_util\n",
    "import pandas as pd\n",
    "import json"
   ]
  },
  {
   "cell_type": "code",
   "execution_count": 2,
   "metadata": {},
   "outputs": [],
   "source": [
    "client = MongoClient()"
   ]
  },
  {
   "cell_type": "code",
   "execution_count": 3,
   "metadata": {},
   "outputs": [],
   "source": [
    "db = client.get_database(\"companies\")"
   ]
  },
  {
   "cell_type": "markdown",
   "metadata": {},
   "source": [
    "### Exploring"
   ]
  },
  {
   "cell_type": "markdown",
   "metadata": {},
   "source": [
    "#### Companies that have both latitude & longitude"
   ]
  },
  {
   "cell_type": "code",
   "execution_count": 4,
   "metadata": {},
   "outputs": [],
   "source": [
    "res = list(db.companies.find({\"offices.latitude\":{\"$ne\":None}, \"offices.longitude\":{\"$ne\":None}},{\"name\":1,\"offices\":1}))"
   ]
  },
  {
   "cell_type": "code",
   "execution_count": 5,
   "metadata": {},
   "outputs": [
    {
     "data": {
      "text/plain": [
       "14082"
      ]
     },
     "execution_count": 5,
     "metadata": {},
     "output_type": "execute_result"
    }
   ],
   "source": [
    "len(res)"
   ]
  },
  {
   "cell_type": "code",
   "execution_count": 6,
   "metadata": {},
   "outputs": [
    {
     "data": {
      "text/plain": [
       "[{'_id': ObjectId('52cdef7c4bab8bd675297d8b'),\n",
       "  'name': 'AdventNet',\n",
       "  'offices': [{'description': 'Headquarters',\n",
       "    'address1': '4900 Hopyard Rd.',\n",
       "    'address2': 'Suite 310',\n",
       "    'zip_code': '94588',\n",
       "    'city': 'Pleasanton',\n",
       "    'state_code': 'CA',\n",
       "    'country_code': 'USA',\n",
       "    'latitude': 37.692934,\n",
       "    'longitude': -121.904945}]},\n",
       " {'_id': ObjectId('52cdef7c4bab8bd675297d92'),\n",
       "  'name': 'Flektor',\n",
       "  'offices': [{'description': None,\n",
       "    'address1': '8536 National Blvd, Suite A',\n",
       "    'address2': None,\n",
       "    'zip_code': '90232',\n",
       "    'city': 'Culver City',\n",
       "    'state_code': 'CA',\n",
       "    'country_code': 'USA',\n",
       "    'latitude': 34.025958,\n",
       "    'longitude': -118.379768}]},\n",
       " {'_id': ObjectId('52cdef7c4bab8bd675297d8c'),\n",
       "  'name': 'Zoho',\n",
       "  'offices': [{'description': 'Headquarters',\n",
       "    'address1': '4900 Hopyard Rd',\n",
       "    'address2': 'Suite 310',\n",
       "    'zip_code': '94588',\n",
       "    'city': 'Pleasanton',\n",
       "    'state_code': 'CA',\n",
       "    'country_code': 'USA',\n",
       "    'latitude': 37.692934,\n",
       "    'longitude': -121.904945}]}]"
      ]
     },
     "execution_count": 6,
     "metadata": {},
     "output_type": "execute_result"
    }
   ],
   "source": [
    "res[:3]"
   ]
  },
  {
   "cell_type": "markdown",
   "metadata": {},
   "source": [
    "#### Different types of categories"
   ]
  },
  {
   "cell_type": "code",
   "execution_count": 7,
   "metadata": {},
   "outputs": [],
   "source": [
    "cat = list(db.companies.find({\"category_code\":{\"$ne\":None}}))"
   ]
  },
  {
   "cell_type": "code",
   "execution_count": 8,
   "metadata": {},
   "outputs": [
    {
     "data": {
      "text/plain": [
       "16050"
      ]
     },
     "execution_count": 8,
     "metadata": {},
     "output_type": "execute_result"
    }
   ],
   "source": [
    "len(cat)"
   ]
  },
  {
   "cell_type": "code",
   "execution_count": 9,
   "metadata": {},
   "outputs": [
    {
     "data": {
      "text/plain": [
       "{'advertising',\n",
       " 'analytics',\n",
       " 'automotive',\n",
       " 'biotech',\n",
       " 'cleantech',\n",
       " 'consulting',\n",
       " 'design',\n",
       " 'ecommerce',\n",
       " 'education',\n",
       " 'enterprise',\n",
       " 'fashion',\n",
       " 'finance',\n",
       " 'games_video',\n",
       " 'government',\n",
       " 'hardware',\n",
       " 'health',\n",
       " 'hospitality',\n",
       " 'legal',\n",
       " 'local',\n",
       " 'manufacturing',\n",
       " 'medical',\n",
       " 'messaging',\n",
       " 'mobile',\n",
       " 'music',\n",
       " 'nanotech',\n",
       " 'network_hosting',\n",
       " 'news',\n",
       " 'nonprofit',\n",
       " 'other',\n",
       " 'photo_video',\n",
       " 'public_relations',\n",
       " 'real_estate',\n",
       " 'search',\n",
       " 'security',\n",
       " 'semiconductor',\n",
       " 'social',\n",
       " 'software',\n",
       " 'sports',\n",
       " 'transportation',\n",
       " 'travel',\n",
       " 'web'}"
      ]
     },
     "execution_count": 9,
     "metadata": {},
     "output_type": "execute_result"
    }
   ],
   "source": [
    "set([document[\"category_code\"] for document in cat])"
   ]
  },
  {
   "cell_type": "markdown",
   "metadata": {},
   "source": [
    "## $unwind of the offices"
   ]
  },
  {
   "cell_type": "code",
   "execution_count": 58,
   "metadata": {},
   "outputs": [],
   "source": [
    "res = db.companies.aggregate([\n",
    "                      {\"$unwind\":\"$offices\"},\n",
    "                      {\"$match\":{\"offices.latitude\":{\"$ne\":None}}},\n",
    "                      {\"$match\":{\"offices.longitude\":{\"$ne\":None}}},\n",
    "                      {\"$project\":{\"_id\":0}}\n",
    "                     ])"
   ]
  },
  {
   "cell_type": "code",
   "execution_count": 59,
   "metadata": {},
   "outputs": [
    {
     "data": {
      "text/plain": [
       "<pymongo.command_cursor.CommandCursor at 0x7fba08d1efd0>"
      ]
     },
     "execution_count": 59,
     "metadata": {},
     "output_type": "execute_result"
    }
   ],
   "source": [
    "res"
   ]
  },
  {
   "cell_type": "code",
   "execution_count": 60,
   "metadata": {},
   "outputs": [
    {
     "data": {
      "text/plain": [
       "<pymongo.results.InsertManyResult at 0x7fba0b2f9640>"
      ]
     },
     "execution_count": 60,
     "metadata": {},
     "output_type": "execute_result"
    }
   ],
   "source": [
    "db.companies_unwinded.insert_many(res)"
   ]
  },
  {
   "cell_type": "code",
   "execution_count": 61,
   "metadata": {},
   "outputs": [],
   "source": [
    "offices = db.companies_unwinded"
   ]
  },
  {
   "cell_type": "markdown",
   "metadata": {},
   "source": [
    "## Filter 1: Design"
   ]
  },
  {
   "cell_type": "code",
   "execution_count": 119,
   "metadata": {},
   "outputs": [],
   "source": [
    "design = list(offices.find({\"category_code\":\"design\"},{\"name\":1,\"offices\":1}))"
   ]
  },
  {
   "cell_type": "code",
   "execution_count": 120,
   "metadata": {
    "scrolled": false
   },
   "outputs": [
    {
     "data": {
      "text/plain": [
       "[{'_id': ObjectId('5fb1638e247255c14a44fb3d'),\n",
       "  'name': '99designs',\n",
       "  'offices': {'description': 'United States (HQ)',\n",
       "   'address1': '447 Battery St.',\n",
       "   'address2': '3rd Floor',\n",
       "   'zip_code': '94111',\n",
       "   'city': 'San Francisco',\n",
       "   'state_code': 'CA',\n",
       "   'country_code': 'USA',\n",
       "   'latitude': 37.7955307,\n",
       "   'longitude': -122.4005983}},\n",
       " {'_id': ObjectId('5fb1638e247255c14a44fb3e'),\n",
       "  'name': '99designs',\n",
       "  'offices': {'description': 'Australia',\n",
       "   'address1': '204 Wellington St.',\n",
       "   'address2': '',\n",
       "   'zip_code': '3065',\n",
       "   'city': 'Collingwood',\n",
       "   'state_code': None,\n",
       "   'country_code': 'AUS',\n",
       "   'latitude': -37.8026587,\n",
       "   'longitude': 144.9868546}},\n",
       " {'_id': ObjectId('5fb1638e247255c14a44fb3f'),\n",
       "  'name': '99designs',\n",
       "  'offices': {'description': 'Europe',\n",
       "   'address1': 'Schlesische Str. 29-30',\n",
       "   'address2': '',\n",
       "   'zip_code': '',\n",
       "   'city': 'Berlin',\n",
       "   'state_code': None,\n",
       "   'country_code': 'DEU',\n",
       "   'latitude': 52.4986199,\n",
       "   'longitude': 13.4469031}},\n",
       " {'_id': ObjectId('5fb1638f247255c14a451968'),\n",
       "  'name': 'Graticle',\n",
       "  'offices': {'description': 'Office',\n",
       "   'address1': '100 E. Third Ave. #373',\n",
       "   'address2': '',\n",
       "   'zip_code': '98926',\n",
       "   'city': 'Ellensburg',\n",
       "   'state_code': 'WA',\n",
       "   'country_code': 'USA',\n",
       "   'latitude': 45.7968414,\n",
       "   'longitude': -122.6931439}}]"
      ]
     },
     "execution_count": 120,
     "metadata": {},
     "output_type": "execute_result"
    }
   ],
   "source": [
    "design"
   ]
  },
  {
   "cell_type": "markdown",
   "metadata": {},
   "source": [
    "### Key takeaway:\n",
    "I am interested in being near SF, Collingwood, Berlin, and Ellensburg."
   ]
  },
  {
   "cell_type": "markdown",
   "metadata": {},
   "source": [
    "## $near\n",
    "- 1st: longitude, 2nd: latitude"
   ]
  },
  {
   "cell_type": "code",
   "execution_count": 121,
   "metadata": {},
   "outputs": [],
   "source": [
    "res = offices.find({},{\"name\":1,\"offices\":1})"
   ]
  },
  {
   "cell_type": "code",
   "execution_count": 122,
   "metadata": {},
   "outputs": [],
   "source": [
    "for c in res:\n",
    "    filt = {\"_id\":c[\"_id\"]}\n",
    "    coord = {\n",
    "              \"type\": \"Point\",\n",
    "              \"coordinates\": [c[\"offices\"][\"longitude\"], c[\"offices\"][\"latitude\"]]\n",
    "            }\n",
    "    update = {\"$set\":{\"coord\":coord}}\n",
    "    offices.update_one(filt,update)"
   ]
  },
  {
   "cell_type": "markdown",
   "metadata": {},
   "source": [
    "I create geoindex in MongoCompass"
   ]
  },
  {
   "cell_type": "code",
   "execution_count": 123,
   "metadata": {},
   "outputs": [],
   "source": [
    "# offices.create_index([(\"coord\",\"2dsphere\")])"
   ]
  },
  {
   "cell_type": "markdown",
   "metadata": {},
   "source": [
    "SanFran"
   ]
  },
  {
   "cell_type": "code",
   "execution_count": 138,
   "metadata": {},
   "outputs": [],
   "source": [
    "point = {\"type\":\"Point\",\n",
    "         \"coordinates\":[-122.4005983, 37.7955307]}\n",
    "\n",
    "query ={\n",
    "    \"coord\":{\n",
    "        \"$near\":{\n",
    "            \"$geometry\":point,\n",
    "            \"$maxDistance\":100_000,\n",
    "        }\n",
    "    }\n",
    "}\n",
    "\n",
    "res_sf = list(offices.find(query))"
   ]
  },
  {
   "cell_type": "code",
   "execution_count": 125,
   "metadata": {},
   "outputs": [
    {
     "data": {
      "text/plain": [
       "2044"
      ]
     },
     "execution_count": 125,
     "metadata": {},
     "output_type": "execute_result"
    }
   ],
   "source": [
    "len(res_sf)"
   ]
  },
  {
   "cell_type": "markdown",
   "metadata": {},
   "source": [
    "Australia"
   ]
  },
  {
   "cell_type": "code",
   "execution_count": 139,
   "metadata": {},
   "outputs": [],
   "source": [
    "point = {\"type\":\"Point\",\n",
    "         \"coordinates\":[144.9868546, 37.7955307]}\n",
    "\n",
    "query ={\n",
    "    \"coord\":{\n",
    "        \"$near\":{\n",
    "            \"$geometry\":point,\n",
    "            \"$maxDistance\":100_000,\n",
    "        }\n",
    "    }\n",
    "}\n",
    "\n",
    "res_aus = list(offices.find(query))"
   ]
  },
  {
   "cell_type": "code",
   "execution_count": 127,
   "metadata": {},
   "outputs": [
    {
     "data": {
      "text/plain": [
       "0"
      ]
     },
     "execution_count": 127,
     "metadata": {},
     "output_type": "execute_result"
    }
   ],
   "source": [
    "len(res_aus)"
   ]
  },
  {
   "cell_type": "code",
   "execution_count": 140,
   "metadata": {},
   "outputs": [],
   "source": [
    "point = {\"type\":\"Point\",\n",
    "         \"coordinates\":[144.9868546, 37.7955307]}\n",
    "\n",
    "query ={\n",
    "    \"coord\":{\n",
    "        \"$near\":{\n",
    "            \"$geometry\":point,\n",
    "            \"$maxDistance\":1_000_000,\n",
    "        }\n",
    "    }\n",
    "}\n",
    "\n",
    "res_aus = list(offices.find(query))"
   ]
  },
  {
   "cell_type": "code",
   "execution_count": 129,
   "metadata": {},
   "outputs": [
    {
     "data": {
      "text/plain": [
       "9"
      ]
     },
     "execution_count": 129,
     "metadata": {},
     "output_type": "execute_result"
    }
   ],
   "source": [
    "len(res_aus)"
   ]
  },
  {
   "cell_type": "markdown",
   "metadata": {},
   "source": [
    "Berlin"
   ]
  },
  {
   "cell_type": "code",
   "execution_count": 141,
   "metadata": {},
   "outputs": [],
   "source": [
    "point = {\"type\":\"Point\",\n",
    "         \"coordinates\":[13.4469031, 52.4986199]}\n",
    "\n",
    "query ={\n",
    "    \"coord\":{\n",
    "        \"$near\":{\n",
    "            \"$geometry\":point,\n",
    "            \"$maxDistance\":100_000,\n",
    "        }\n",
    "    }\n",
    "}\n",
    "\n",
    "res_ber = list(offices.find(query))"
   ]
  },
  {
   "cell_type": "code",
   "execution_count": 131,
   "metadata": {},
   "outputs": [
    {
     "data": {
      "text/plain": [
       "77"
      ]
     },
     "execution_count": 131,
     "metadata": {},
     "output_type": "execute_result"
    }
   ],
   "source": [
    "len(res_ber)"
   ]
  },
  {
   "cell_type": "markdown",
   "metadata": {},
   "source": [
    "Ellensburg"
   ]
  },
  {
   "cell_type": "code",
   "execution_count": 142,
   "metadata": {},
   "outputs": [],
   "source": [
    "point = {\"type\":\"Point\",\n",
    "         \"coordinates\":[-122.6931439, 45.7968414]}\n",
    "\n",
    "query ={\n",
    "    \"coord\":{\n",
    "        \"$near\":{\n",
    "            \"$geometry\":point,\n",
    "            \"$maxDistance\":100_000,\n",
    "        }\n",
    "    }\n",
    "}\n",
    "\n",
    "res_ell = list(offices.find(query))"
   ]
  },
  {
   "cell_type": "code",
   "execution_count": 133,
   "metadata": {},
   "outputs": [
    {
     "data": {
      "text/plain": [
       "73"
      ]
     },
     "execution_count": 133,
     "metadata": {},
     "output_type": "execute_result"
    }
   ],
   "source": [
    "len(res_ell)"
   ]
  },
  {
   "cell_type": "markdown",
   "metadata": {},
   "source": [
    "### 1st observation:\n",
    "SF is the city with the highest number of companies within a design environment."
   ]
  },
  {
   "cell_type": "code",
   "execution_count": 143,
   "metadata": {},
   "outputs": [
    {
     "data": {
      "text/plain": [
       "2203"
      ]
     },
     "execution_count": 143,
     "metadata": {},
     "output_type": "execute_result"
    }
   ],
   "source": [
    "comp_design = res_sf + res_aus + res_ber + res_ell\n",
    "len(comp_design)"
   ]
  },
  {
   "cell_type": "code",
   "execution_count": 144,
   "metadata": {},
   "outputs": [
    {
     "data": {
      "text/plain": [
       "list"
      ]
     },
     "execution_count": 144,
     "metadata": {},
     "output_type": "execute_result"
    }
   ],
   "source": [
    "type(comp_design)"
   ]
  },
  {
   "cell_type": "markdown",
   "metadata": {},
   "source": [
    "converting into a JSON and inserting into db"
   ]
  },
  {
   "cell_type": "code",
   "execution_count": 145,
   "metadata": {},
   "outputs": [
    {
     "data": {
      "text/plain": [
       "<pymongo.results.InsertManyResult at 0x7fb9fb16ac80>"
      ]
     },
     "execution_count": 145,
     "metadata": {},
     "output_type": "execute_result"
    }
   ],
   "source": [
    "db.companies_unwinded_des.insert_many(comp_design)"
   ]
  },
  {
   "cell_type": "markdown",
   "metadata": {},
   "source": [
    "## Filter 2: Tech"
   ]
  },
  {
   "cell_type": "code",
   "execution_count": 171,
   "metadata": {},
   "outputs": [],
   "source": [
    "offices_2 = db.companies_unwinded_des"
   ]
  },
  {
   "cell_type": "code",
   "execution_count": 172,
   "metadata": {},
   "outputs": [
    {
     "data": {
      "text/plain": [
       "Collection(Database(MongoClient(host=['localhost:27017'], document_class=dict, tz_aware=False, connect=True), 'companies'), 'companies_unwinded_des')"
      ]
     },
     "execution_count": 172,
     "metadata": {},
     "output_type": "execute_result"
    }
   ],
   "source": [
    "offices_2"
   ]
  },
  {
   "cell_type": "code",
   "execution_count": 178,
   "metadata": {},
   "outputs": [],
   "source": [
    "res_2 = offices_2.find({},{\"name\":1,\"offices\":1})"
   ]
  },
  {
   "cell_type": "code",
   "execution_count": 179,
   "metadata": {},
   "outputs": [
    {
     "data": {
      "text/plain": [
       "2203"
      ]
     },
     "execution_count": 179,
     "metadata": {},
     "output_type": "execute_result"
    }
   ],
   "source": [
    "len(list(res_2))"
   ]
  },
  {
   "cell_type": "markdown",
   "metadata": {},
   "source": [
    "creating geoIndex in new db"
   ]
  },
  {
   "cell_type": "code",
   "execution_count": 148,
   "metadata": {},
   "outputs": [],
   "source": [
    "for c in res_2:\n",
    "    filt = {\"_id\":c[\"_id\"]}\n",
    "    coord = {\n",
    "              \"type\": \"Point\",\n",
    "              \"coordinates\": [c[\"offices\"][\"longitude\"], c[\"offices\"][\"latitude\"]]\n",
    "            }\n",
    "    update = {\"$set\":{\"coord\":coord}}\n",
    "    offices_2.update_one(filt,update)"
   ]
  },
  {
   "cell_type": "markdown",
   "metadata": {},
   "source": [
    "Filter tech:\n",
    "- by definition must be a tech company\n",
    "- total money raised > $1M\n",
    "- nº employees >50, <250"
   ]
  },
  {
   "cell_type": "code",
   "execution_count": 192,
   "metadata": {},
   "outputs": [],
   "source": [
    "filter_tech = {\"category_code\":{\"$regex\":\"tech$\"},\n",
    "               \"total_money_raised\":{\"$gte\":\"$1_000_000\"},\n",
    "               \"number_of_employees\":{\"$gte\":50, \"$lte\":250}}\n",
    "\n",
    "one_mil = list(db.companies_unwinded_des.find(filter_tech))"
   ]
  },
  {
   "cell_type": "code",
   "execution_count": 194,
   "metadata": {},
   "outputs": [
    {
     "data": {
      "text/plain": [
       "6"
      ]
     },
     "execution_count": 194,
     "metadata": {},
     "output_type": "execute_result"
    }
   ],
   "source": [
    "len(one_mil)"
   ]
  },
  {
   "cell_type": "markdown",
   "metadata": {},
   "source": [
    "### 2nd observation:\n",
    "There are 6 companies near to tech startups and within a design environment."
   ]
  },
  {
   "cell_type": "code",
   "execution_count": 196,
   "metadata": {
    "scrolled": true
   },
   "outputs": [
    {
     "data": {
      "text/plain": [
       "<pymongo.results.InsertManyResult at 0x7fb9ff9bc4c0>"
      ]
     },
     "execution_count": 196,
     "metadata": {},
     "output_type": "execute_result"
    }
   ],
   "source": [
    "db.companies_unwinded_des_tech.insert_many(one_mil)"
   ]
  },
  {
   "cell_type": "code",
   "execution_count": 206,
   "metadata": {},
   "outputs": [],
   "source": [
    "offices_3 = list(db.companies_unwinded_des_tech.find(filter_tech,{\"offices\":1}))"
   ]
  },
  {
   "cell_type": "code",
   "execution_count": 207,
   "metadata": {},
   "outputs": [
    {
     "data": {
      "text/plain": [
       "[{'_id': ObjectId('5fb1638f247255c14a451e65'),\n",
       "  'offices': {'description': 'Headquarters',\n",
       "   'address1': '46400 Fremont Boulevard',\n",
       "   'address2': '',\n",
       "   'zip_code': '94538',\n",
       "   'city': 'Fremont',\n",
       "   'state_code': 'CA',\n",
       "   'country_code': 'USA',\n",
       "   'latitude': 37.790153,\n",
       "   'longitude': -122.398669}},\n",
       " {'_id': ObjectId('5fb1638f247255c14a451aea'),\n",
       "  'offices': {'description': 'San Francisco HQ',\n",
       "   'address1': '45 Fremont Street, 32nd Floor',\n",
       "   'address2': '',\n",
       "   'zip_code': '94105',\n",
       "   'city': 'San Francisco',\n",
       "   'state_code': 'CA',\n",
       "   'country_code': 'USA',\n",
       "   'latitude': 37.7871306,\n",
       "   'longitude': -122.4041075}},\n",
       " {'_id': ObjectId('5fb1638f247255c14a451d0b'),\n",
       "  'offices': {'description': 'Headquarters',\n",
       "   'address1': '260 Littlefield Avenue',\n",
       "   'address2': '',\n",
       "   'zip_code': '94080',\n",
       "   'city': 'South San Francisco',\n",
       "   'state_code': 'CA',\n",
       "   'country_code': 'USA',\n",
       "   'latitude': 37.645401,\n",
       "   'longitude': -122.394464}},\n",
       " {'_id': ObjectId('5fb1638f247255c14a451993'),\n",
       "  'offices': {'description': 'Corporate Headquarters',\n",
       "   'address1': '2215 Bridgepointe Parkway',\n",
       "   'address2': '',\n",
       "   'zip_code': '94404',\n",
       "   'city': 'San Mateo',\n",
       "   'state_code': 'CA',\n",
       "   'country_code': 'USA',\n",
       "   'latitude': 37.560781,\n",
       "   'longitude': -122.284114}},\n",
       " {'_id': ObjectId('5fb1638f247255c14a451b34'),\n",
       "  'offices': {'description': 'Pleasanton',\n",
       "   'address1': '5994 W. Las Positas Boulevard',\n",
       "   'address2': 'Suite 217',\n",
       "   'zip_code': '94588',\n",
       "   'city': 'Pleasanton',\n",
       "   'state_code': 'CA',\n",
       "   'country_code': 'USA',\n",
       "   'latitude': 37.6817236,\n",
       "   'longitude': -121.9031911}},\n",
       " {'_id': ObjectId('5fb1638f247255c14a451810'),\n",
       "  'offices': {'description': 'Local US Office',\n",
       "   'address1': '3347 Gateway Boulevard',\n",
       "   'address2': '',\n",
       "   'zip_code': '94538',\n",
       "   'city': 'Fremont',\n",
       "   'state_code': 'CA',\n",
       "   'country_code': 'USA',\n",
       "   'latitude': 37.4757796,\n",
       "   'longitude': -121.9382415}}]"
      ]
     },
     "execution_count": 207,
     "metadata": {},
     "output_type": "execute_result"
    }
   ],
   "source": [
    "offices_3"
   ]
  },
  {
   "cell_type": "markdown",
   "metadata": {},
   "source": [
    "### 3rd observation:\n",
    "All the offices are in CA."
   ]
  },
  {
   "cell_type": "markdown",
   "metadata": {},
   "source": [
    "### Saving mongodb query to json file"
   ]
  },
  {
   "cell_type": "code",
   "execution_count": 213,
   "metadata": {},
   "outputs": [],
   "source": [
    "res = db.companies_unwinded_des_tech.find(filter_tech)"
   ]
  },
  {
   "cell_type": "code",
   "execution_count": 214,
   "metadata": {},
   "outputs": [],
   "source": [
    "res = list(res)"
   ]
  },
  {
   "cell_type": "code",
   "execution_count": 215,
   "metadata": {},
   "outputs": [],
   "source": [
    "with open(\"data/comp_selec.json\", \"w+\") as file:\n",
    "    file.write(json_util.dumps(res))"
   ]
  },
  {
   "cell_type": "code",
   "execution_count": 218,
   "metadata": {
    "scrolled": false
   },
   "outputs": [
    {
     "data": {
      "text/html": [
       "<div>\n",
       "<style scoped>\n",
       "    .dataframe tbody tr th:only-of-type {\n",
       "        vertical-align: middle;\n",
       "    }\n",
       "\n",
       "    .dataframe tbody tr th {\n",
       "        vertical-align: top;\n",
       "    }\n",
       "\n",
       "    .dataframe thead th {\n",
       "        text-align: right;\n",
       "    }\n",
       "</style>\n",
       "<table border=\"1\" class=\"dataframe\">\n",
       "  <thead>\n",
       "    <tr style=\"text-align: right;\">\n",
       "      <th></th>\n",
       "      <th>_id</th>\n",
       "      <th>name</th>\n",
       "      <th>permalink</th>\n",
       "      <th>crunchbase_url</th>\n",
       "      <th>homepage_url</th>\n",
       "      <th>blog_url</th>\n",
       "      <th>blog_feed_url</th>\n",
       "      <th>twitter_username</th>\n",
       "      <th>category_code</th>\n",
       "      <th>number_of_employees</th>\n",
       "      <th>...</th>\n",
       "      <th>acquisition</th>\n",
       "      <th>acquisitions</th>\n",
       "      <th>offices</th>\n",
       "      <th>milestones</th>\n",
       "      <th>ipo</th>\n",
       "      <th>video_embeds</th>\n",
       "      <th>screenshots</th>\n",
       "      <th>external_links</th>\n",
       "      <th>partners</th>\n",
       "      <th>coord</th>\n",
       "    </tr>\n",
       "  </thead>\n",
       "  <tbody>\n",
       "    <tr>\n",
       "      <th>0</th>\n",
       "      <td>{'$oid': '5fb1638f247255c14a451e65'}</td>\n",
       "      <td>GreenVolts</td>\n",
       "      <td>greenvolts</td>\n",
       "      <td>http://www.crunchbase.com/company/greenvolts</td>\n",
       "      <td>http://www.greenvolts.com</td>\n",
       "      <td></td>\n",
       "      <td></td>\n",
       "      <td>GreenVolts</td>\n",
       "      <td>cleantech</td>\n",
       "      <td>68</td>\n",
       "      <td>...</td>\n",
       "      <td>None</td>\n",
       "      <td>[]</td>\n",
       "      <td>{'description': 'Headquarters', 'address1': '4...</td>\n",
       "      <td>[{'id': 11069, 'description': 'GreenVolts Look...</td>\n",
       "      <td>NaN</td>\n",
       "      <td>[]</td>\n",
       "      <td>[]</td>\n",
       "      <td>[]</td>\n",
       "      <td>[]</td>\n",
       "      <td>{'type': 'Point', 'coordinates': [-122.398669,...</td>\n",
       "    </tr>\n",
       "    <tr>\n",
       "      <th>1</th>\n",
       "      <td>{'$oid': '5fb1638f247255c14a451aea'}</td>\n",
       "      <td>Sunrun</td>\n",
       "      <td>sunrun</td>\n",
       "      <td>http://www.crunchbase.com/company/sunrun</td>\n",
       "      <td>http://www.sunrun.com</td>\n",
       "      <td>http://www.sunrun.com/blog</td>\n",
       "      <td></td>\n",
       "      <td>Sunrun</td>\n",
       "      <td>cleantech</td>\n",
       "      <td>180</td>\n",
       "      <td>...</td>\n",
       "      <td>None</td>\n",
       "      <td>[]</td>\n",
       "      <td>{'description': 'San Francisco HQ', 'address1'...</td>\n",
       "      <td>[{'id': 9626, 'description': 'Solar Co. SunRun...</td>\n",
       "      <td>NaN</td>\n",
       "      <td>[]</td>\n",
       "      <td>[{'available_sizes': [[[150, 117], 'assets/ima...</td>\n",
       "      <td>[]</td>\n",
       "      <td>[]</td>\n",
       "      <td>{'type': 'Point', 'coordinates': [-122.4041075...</td>\n",
       "    </tr>\n",
       "    <tr>\n",
       "      <th>2</th>\n",
       "      <td>{'$oid': '5fb1638f247255c14a451d0b'}</td>\n",
       "      <td>Catalyst Biosciences</td>\n",
       "      <td>catalyst-biosciences</td>\n",
       "      <td>http://www.crunchbase.com/company/catalyst-bio...</td>\n",
       "      <td>http://www.catalystbiosciences.com</td>\n",
       "      <td></td>\n",
       "      <td></td>\n",
       "      <td></td>\n",
       "      <td>biotech</td>\n",
       "      <td>50</td>\n",
       "      <td>...</td>\n",
       "      <td>None</td>\n",
       "      <td>[]</td>\n",
       "      <td>{'description': 'Headquarters', 'address1': '2...</td>\n",
       "      <td>[]</td>\n",
       "      <td>NaN</td>\n",
       "      <td>[]</td>\n",
       "      <td>[{'available_sizes': [[[150, 94], 'assets/imag...</td>\n",
       "      <td>[]</td>\n",
       "      <td>[]</td>\n",
       "      <td>{'type': 'Point', 'coordinates': [-122.394464,...</td>\n",
       "    </tr>\n",
       "    <tr>\n",
       "      <th>3</th>\n",
       "      <td>{'$oid': '5fb1638f247255c14a451993'}</td>\n",
       "      <td>eMeter</td>\n",
       "      <td>emeter</td>\n",
       "      <td>http://www.crunchbase.com/company/emeter</td>\n",
       "      <td>http://www.emeter.com</td>\n",
       "      <td>http://www.emeter.com/category/blog/</td>\n",
       "      <td>http://www.emeter.com/?feed=rss2</td>\n",
       "      <td>emeter</td>\n",
       "      <td>cleantech</td>\n",
       "      <td>200</td>\n",
       "      <td>...</td>\n",
       "      <td>{'price_amount': None, 'price_currency_code': ...</td>\n",
       "      <td>[]</td>\n",
       "      <td>{'description': 'Corporate Headquarters', 'add...</td>\n",
       "      <td>[]</td>\n",
       "      <td>NaN</td>\n",
       "      <td>[]</td>\n",
       "      <td>[{'available_sizes': [[[141, 150], 'assets/ima...</td>\n",
       "      <td>[]</td>\n",
       "      <td>[]</td>\n",
       "      <td>{'type': 'Point', 'coordinates': [-122.284114,...</td>\n",
       "    </tr>\n",
       "    <tr>\n",
       "      <th>4</th>\n",
       "      <td>{'$oid': '5fb1638f247255c14a451b34'}</td>\n",
       "      <td>TRIRIGA</td>\n",
       "      <td>tririga</td>\n",
       "      <td>http://www.crunchbase.com/company/tririga</td>\n",
       "      <td>http://www.tririga.com</td>\n",
       "      <td></td>\n",
       "      <td></td>\n",
       "      <td>TRIRIGAINC</td>\n",
       "      <td>cleantech</td>\n",
       "      <td>214</td>\n",
       "      <td>...</td>\n",
       "      <td>{'price_amount': None, 'price_currency_code': ...</td>\n",
       "      <td>[]</td>\n",
       "      <td>{'description': 'Pleasanton', 'address1': '599...</td>\n",
       "      <td>[{'id': 14398, 'description': 'ARMONK, N.Y. --...</td>\n",
       "      <td>NaN</td>\n",
       "      <td>[]</td>\n",
       "      <td>[]</td>\n",
       "      <td>[{'external_url': 'http://www.environmentallea...</td>\n",
       "      <td>[]</td>\n",
       "      <td>{'type': 'Point', 'coordinates': [-121.9031911...</td>\n",
       "    </tr>\n",
       "    <tr>\n",
       "      <th>5</th>\n",
       "      <td>{'$oid': '5fb1638f247255c14a451810'}</td>\n",
       "      <td>SolarEdge</td>\n",
       "      <td>solaredge</td>\n",
       "      <td>http://www.crunchbase.com/company/solaredge</td>\n",
       "      <td>http://www.solaredge.com</td>\n",
       "      <td>http://www.solaredge.com/groups/blog</td>\n",
       "      <td></td>\n",
       "      <td>SolarEdgePV</td>\n",
       "      <td>cleantech</td>\n",
       "      <td>230</td>\n",
       "      <td>...</td>\n",
       "      <td>None</td>\n",
       "      <td>[]</td>\n",
       "      <td>{'description': 'Local US Office', 'address1':...</td>\n",
       "      <td>[]</td>\n",
       "      <td>NaN</td>\n",
       "      <td>[{'embed_code': '&lt;object width=\"430\" height=\"2...</td>\n",
       "      <td>[]</td>\n",
       "      <td>[]</td>\n",
       "      <td>[]</td>\n",
       "      <td>{'type': 'Point', 'coordinates': [-121.9382415...</td>\n",
       "    </tr>\n",
       "  </tbody>\n",
       "</table>\n",
       "<p>6 rows × 43 columns</p>\n",
       "</div>"
      ],
      "text/plain": [
       "                                    _id                  name  \\\n",
       "0  {'$oid': '5fb1638f247255c14a451e65'}            GreenVolts   \n",
       "1  {'$oid': '5fb1638f247255c14a451aea'}                Sunrun   \n",
       "2  {'$oid': '5fb1638f247255c14a451d0b'}  Catalyst Biosciences   \n",
       "3  {'$oid': '5fb1638f247255c14a451993'}                eMeter   \n",
       "4  {'$oid': '5fb1638f247255c14a451b34'}               TRIRIGA   \n",
       "5  {'$oid': '5fb1638f247255c14a451810'}             SolarEdge   \n",
       "\n",
       "              permalink                                     crunchbase_url  \\\n",
       "0            greenvolts       http://www.crunchbase.com/company/greenvolts   \n",
       "1                sunrun           http://www.crunchbase.com/company/sunrun   \n",
       "2  catalyst-biosciences  http://www.crunchbase.com/company/catalyst-bio...   \n",
       "3                emeter           http://www.crunchbase.com/company/emeter   \n",
       "4               tririga          http://www.crunchbase.com/company/tririga   \n",
       "5             solaredge        http://www.crunchbase.com/company/solaredge   \n",
       "\n",
       "                         homepage_url                              blog_url  \\\n",
       "0           http://www.greenvolts.com                                         \n",
       "1               http://www.sunrun.com            http://www.sunrun.com/blog   \n",
       "2  http://www.catalystbiosciences.com                                         \n",
       "3               http://www.emeter.com  http://www.emeter.com/category/blog/   \n",
       "4              http://www.tririga.com                                         \n",
       "5            http://www.solaredge.com  http://www.solaredge.com/groups/blog   \n",
       "\n",
       "                      blog_feed_url twitter_username category_code  \\\n",
       "0                                         GreenVolts     cleantech   \n",
       "1                                             Sunrun     cleantech   \n",
       "2                                                          biotech   \n",
       "3  http://www.emeter.com/?feed=rss2           emeter     cleantech   \n",
       "4                                         TRIRIGAINC     cleantech   \n",
       "5                                        SolarEdgePV     cleantech   \n",
       "\n",
       "   number_of_employees  ...  \\\n",
       "0                   68  ...   \n",
       "1                  180  ...   \n",
       "2                   50  ...   \n",
       "3                  200  ...   \n",
       "4                  214  ...   \n",
       "5                  230  ...   \n",
       "\n",
       "                                         acquisition  acquisitions  \\\n",
       "0                                               None            []   \n",
       "1                                               None            []   \n",
       "2                                               None            []   \n",
       "3  {'price_amount': None, 'price_currency_code': ...            []   \n",
       "4  {'price_amount': None, 'price_currency_code': ...            []   \n",
       "5                                               None            []   \n",
       "\n",
       "                                             offices  \\\n",
       "0  {'description': 'Headquarters', 'address1': '4...   \n",
       "1  {'description': 'San Francisco HQ', 'address1'...   \n",
       "2  {'description': 'Headquarters', 'address1': '2...   \n",
       "3  {'description': 'Corporate Headquarters', 'add...   \n",
       "4  {'description': 'Pleasanton', 'address1': '599...   \n",
       "5  {'description': 'Local US Office', 'address1':...   \n",
       "\n",
       "                                          milestones  ipo  \\\n",
       "0  [{'id': 11069, 'description': 'GreenVolts Look...  NaN   \n",
       "1  [{'id': 9626, 'description': 'Solar Co. SunRun...  NaN   \n",
       "2                                                 []  NaN   \n",
       "3                                                 []  NaN   \n",
       "4  [{'id': 14398, 'description': 'ARMONK, N.Y. --...  NaN   \n",
       "5                                                 []  NaN   \n",
       "\n",
       "                                        video_embeds  \\\n",
       "0                                                 []   \n",
       "1                                                 []   \n",
       "2                                                 []   \n",
       "3                                                 []   \n",
       "4                                                 []   \n",
       "5  [{'embed_code': '<object width=\"430\" height=\"2...   \n",
       "\n",
       "                                         screenshots  \\\n",
       "0                                                 []   \n",
       "1  [{'available_sizes': [[[150, 117], 'assets/ima...   \n",
       "2  [{'available_sizes': [[[150, 94], 'assets/imag...   \n",
       "3  [{'available_sizes': [[[141, 150], 'assets/ima...   \n",
       "4                                                 []   \n",
       "5                                                 []   \n",
       "\n",
       "                                      external_links partners  \\\n",
       "0                                                 []       []   \n",
       "1                                                 []       []   \n",
       "2                                                 []       []   \n",
       "3                                                 []       []   \n",
       "4  [{'external_url': 'http://www.environmentallea...       []   \n",
       "5                                                 []       []   \n",
       "\n",
       "                                               coord  \n",
       "0  {'type': 'Point', 'coordinates': [-122.398669,...  \n",
       "1  {'type': 'Point', 'coordinates': [-122.4041075...  \n",
       "2  {'type': 'Point', 'coordinates': [-122.394464,...  \n",
       "3  {'type': 'Point', 'coordinates': [-122.284114,...  \n",
       "4  {'type': 'Point', 'coordinates': [-121.9031911...  \n",
       "5  {'type': 'Point', 'coordinates': [-121.9382415...  \n",
       "\n",
       "[6 rows x 43 columns]"
      ]
     },
     "execution_count": 218,
     "metadata": {},
     "output_type": "execute_result"
    }
   ],
   "source": [
    "pd.read_json(\"data/comp_selec.json\")"
   ]
  },
  {
   "cell_type": "code",
   "execution_count": null,
   "metadata": {},
   "outputs": [],
   "source": []
  }
 ],
 "metadata": {
  "kernelspec": {
   "display_name": "Python 3",
   "language": "python",
   "name": "python3"
  },
  "language_info": {
   "codemirror_mode": {
    "name": "ipython",
    "version": 3
   },
   "file_extension": ".py",
   "mimetype": "text/x-python",
   "name": "python",
   "nbconvert_exporter": "python",
   "pygments_lexer": "ipython3",
   "version": "3.8.5"
  }
 },
 "nbformat": 4,
 "nbformat_minor": 4
}
